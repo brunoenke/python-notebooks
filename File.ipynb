{
 "cells": [
  {
   "cell_type": "code",
   "execution_count": null,
   "metadata": {},
   "outputs": [],
   "source": [
    "#criamos o arquivo na pasta temp, com nome arquivo.txt\n",
    "novo_arquivo = open(\"c:\\\\temp\\\\arquivo.txt\", \"w\")\n",
    "novo_arquivo.close()"
   ]
  },
  {
   "cell_type": "code",
   "execution_count": null,
   "metadata": {
    "collapsed": true
   },
   "outputs": [],
   "source": [
    "#editar o arquivo criado na célula anterior, sobrescrevendo o conteúdo\n",
    "abrir_arquivo = open(\"c:\\\\temp\\\\arquivo.txt\", \"w\")\n",
    "texto_novo = \"Esse texto foi gravado com o Python!!!\"\n",
    "abrir_arquivo.write(texto_novo)\n",
    "abrir_arquivo.close()"
   ]
  },
  {
   "cell_type": "code",
   "execution_count": null,
   "metadata": {
    "collapsed": true
   },
   "outputs": [],
   "source": [
    "#editar o arquivo criado na célula anterior, mantendo o conteúdo\n",
    "\n",
    "abrir_arquivo = open(\"c:\\\\temp\\\\arquivo.txt\", \"r\")\n",
    "\n",
    "conteudo = abrir_arquivo.read()\n",
    "\n",
    "conteudo = conteudo + \"\\nMais uma linha em Python!!!\"\n",
    "\n",
    "abrir_arquivo = open(\"c:\\\\temp\\\\arquivo.txt\", \"w\")\n",
    "\n",
    "abrir_arquivo.write(conteudo)\n",
    "\n",
    "abrir_arquivo.close()"
   ]
  },
  {
   "cell_type": "code",
   "execution_count": null,
   "metadata": {},
   "outputs": [],
   "source": [
    "#ler o arquivo (vazio) na pasta temp\n",
    "\n",
    "ler_arquivo = open(\"c:\\\\temp\\\\arquivo.txt\", \"r\")\n",
    "\n",
    "conteudo = ler_arquivo.read()\n",
    "\n",
    "print(conteudo)"
   ]
  },
  {
   "cell_type": "code",
   "execution_count": null,
   "metadata": {},
   "outputs": [],
   "source": [
    "#ler o arquivo (com conteúdo do notepad) na pasta temp\n",
    "\n",
    "ler_arquivo = open(\"c:\\\\temp\\\\arquivo.txt\", \"r\")\n",
    "\n",
    "conteudo = ler_arquivo.read()\n",
    "\n",
    "print(conteudo)"
   ]
  },
  {
   "cell_type": "code",
   "execution_count": null,
   "metadata": {},
   "outputs": [],
   "source": [
    "#com o módulo os, manipular lista de diretório e arquivos\n",
    "import os\n",
    "#listar arquivos no diretório atual\n",
    "for filename in os.listdir():\n",
    "    print(filename)\n"
   ]
  },
  {
   "cell_type": "code",
   "execution_count": null,
   "metadata": {},
   "outputs": [],
   "source": [
    "#abrir arquivo pra gravar o texto \"sample\".\n",
    "file = open('c:\\\\temp\\sample.txt', 'w')\n",
    "file.write(\"sample\")\n",
    "#verificar se o arquivo está fechado\n",
    "if not(file.closed):\n",
    "    #se não está fechado, fechar\n",
    "    file.close()"
   ]
  }
 ],
 "metadata": {
  "kernelspec": {
   "display_name": "Python 3",
   "language": "python",
   "name": "python3"
  },
  "language_info": {
   "codemirror_mode": {
    "name": "ipython",
    "version": 3
   },
   "file_extension": ".py",
   "mimetype": "text/x-python",
   "name": "python",
   "nbconvert_exporter": "python",
   "pygments_lexer": "ipython3",
   "version": "3.6.5"
  }
 },
 "nbformat": 4,
 "nbformat_minor": 2
}
