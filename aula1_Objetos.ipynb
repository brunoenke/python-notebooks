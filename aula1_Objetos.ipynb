{
 "cells": [
  {
   "cell_type": "code",
   "execution_count": 26,
   "metadata": {},
   "outputs": [
    {
     "name": "stdout",
     "output_type": "stream",
     "text": [
      "Eu sou o novo João \n",
      "Minha idade é 35 \n",
      "Eu sou o novo Maira \n",
      "Eu sou o novo Madalena \n",
      "Estou conversando com Maira\n",
      "None\n",
      "Eu sou João, tenho 39 anos\n"
     ]
    }
   ],
   "source": [
    "class pessoa:\n",
    "    def __init__(self, nome, idade):\n",
    "        print('Eu sou o novo {} '.format(nome))\n",
    "        self.nome = nome\n",
    "        self.idade = idade\n",
    "    \n",
    "    #alterar a idade SET - Parametro de entrada\n",
    "    def mudaIdade(self, idade):\n",
    "        self.idade = idade\n",
    "    #descobrir qual é a idade GET - Return\n",
    "    def retornaIdade(self):\n",
    "        return self.idade\n",
    "        \n",
    "    def pensar(self):\n",
    "        pass\n",
    "    \n",
    "    def conversar(self):\n",
    "        print('Estou conversando com {}'.format(self.nome))\n",
    "        \n",
    "    def __str__(self):\n",
    "        return 'Eu sou {}, tenho {} anos'.format(self.nome, self.idade)\n",
    "\n",
    "joao = pessoa('João', 35)\n",
    "print('Minha idade é {} '.format(joao.retornaIdade()))\n",
    "maira = pessoa('Maira', 29)\n",
    "madalena = pessoa('Madalena', 18)\n",
    "print(maira.conversar())\n",
    "\n",
    "joao.mudaIdade(39)\n",
    "print(joao)"
   ]
  },
  {
   "cell_type": "code",
   "execution_count": 19,
   "metadata": {},
   "outputs": [
    {
     "name": "stdout",
     "output_type": "stream",
     "text": [
      "Você está dirigido um Volksvagen ano 1968 modelo Fusca\n",
      "Você está dirigido um Nissan ano 2000 modelo Skyline GTR R34\n",
      "Você está dirigido um Ferrari ano 2012 modelo Ferrari 458 Italia\n",
      "Você está dirigido um Chevrolet ano 1977 modelo Chevette Tubarão\n"
     ]
    }
   ],
   "source": [
    "class car:\n",
    "    def __init__(self, model, year, brand):\n",
    "        print('Você está dirigido um {} ano {} modelo {}'.format(brand, year, model))\n",
    "        self.model = model\n",
    "        self.year = year\n",
    "        self.brand = brand\n",
    "        \n",
    "    def start(self, start):\n",
    "        print ('Coloque a chave e de a partida na ignição')\n",
    "        self.start = start\n",
    "        \n",
    "    def drive(self):\n",
    "        print ('Estou dirigindo')\n",
    "    def clean(self):\n",
    "        print('lavar')\n",
    "\n",
    "class offroad(car):\n",
    "    def __init__(self, model, year, brand, acessories, ropeLength):\n",
    "        car.__init__(self,model, year, brand)\n",
    "        self.acessories = acessories\n",
    "        self.ropeLength = ropeLength\n",
    "        \n",
    "    def unwind(self):\n",
    "        print('O carro está na lama')\n",
    "    def  cimb(self):\n",
    "        print('O carro não está subindo o morro')\n",
    "    def tow(self):\n",
    "        print('Rebocar o carro')\n",
    "        \n",
    "class race(car):\n",
    "    def __init__(self, model, year, brand, turbo, nitro, spoiler):\n",
    "        car.__init__(self, model, year, brand)\n",
    "        self.turbo = turbo\n",
    "        self.nitro = nitro\n",
    "        self.spoiler = spoiler\n",
    "    \n",
    "    def run(self):\n",
    "        print('Acelerando')\n",
    "        \n",
    "    def skid(self):\n",
    "        print('O carro esta derrapando')\n",
    "\n",
    "fusca = car('Fusca', 1968, 'Volksvagen')\n",
    "Skyline = car('Skyline GTR R34', 2000 , 'Nissan')\n",
    "f458 = car('Ferrari 458 Italia', 2012, 'Ferrari')\n",
    "chevette = car('Chevette Tubarão', 1977, 'Chevrolet')\n",
    "\n",
    "class gear_shift(car):\n",
    "    def __init__(self, model, year, brand, position):\n",
    "        car.__init__(self, model, year, brand)\n",
    "        self.position = position\n",
    "\n",
    "class clutch(car):\n",
    "    def __init__(self, model, year, brand, depressed):\n",
    "        car.__init__(self, model, year, brand)\n",
    "        \n",
    "class tires(car):\n",
    "    def __init__(self, model, year, brand, Km_Wheeled):\n",
    "        car.__init__(self, model, year, brand)    "
   ]
  },
  {
   "cell_type": "code",
   "execution_count": 20,
   "metadata": {},
   "outputs": [
    {
     "name": "stdout",
     "output_type": "stream",
     "text": [
      "Você está dirigido um Chevrolet ano 2018 modelo Camaro SS\n",
      "Acelerando\n",
      "O carro esta derrapando\n",
      "lavar\n"
     ]
    }
   ],
   "source": [
    "camaro = race('Camaro SS', 2018, 'Chevrolet', True, 10, False)\n",
    "camaro.run()\n",
    "camaro.skid()\n",
    "camaro.clean()"
   ]
  }
 ],
 "metadata": {
  "kernelspec": {
   "display_name": "Python 3",
   "language": "python",
   "name": "python3"
  },
  "language_info": {
   "codemirror_mode": {
    "name": "ipython",
    "version": 3
   },
   "file_extension": ".py",
   "mimetype": "text/x-python",
   "name": "python",
   "nbconvert_exporter": "python",
   "pygments_lexer": "ipython3",
   "version": "3.6.5"
  }
 },
 "nbformat": 4,
 "nbformat_minor": 2
}
