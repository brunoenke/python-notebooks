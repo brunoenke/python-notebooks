{
 "cells": [
  {
   "cell_type": "code",
   "execution_count": 1,
   "metadata": {},
   "outputs": [
    {
     "name": "stdout",
     "output_type": "stream",
     "text": [
      "\" \" \n",
      "''\n"
     ]
    }
   ],
   "source": [
    "#Crie uma string cujo conteúdo seja\n",
    "#duas aspas duplas em uma linha e\n",
    "#duas aspas simples em outra linha.\n",
    "print(\"\\\" \\\" \\n''\")"
   ]
  },
  {
   "cell_type": "code",
   "execution_count": 2,
   "metadata": {},
   "outputs": [
    {
     "name": "stdout",
     "output_type": "stream",
     "text": [
      "3\n"
     ]
    }
   ],
   "source": [
    "#Qual é o resultado desse código?\n",
    "#a > 3 true então print 3.\n",
    "#a <5 false então fim da execução do programa.\n",
    "\n",
    "a = 7\n",
    "if (a > 3):\n",
    "    print(\"3\")\n",
    "    if (a < 5):\n",
    "        print (\"5\")\n",
    "        if (a==7):\n",
    "            print (\"7\")"
   ]
  },
  {
   "cell_type": "code",
   "execution_count": 4,
   "metadata": {},
   "outputs": [
    {
     "name": "stdout",
     "output_type": "stream",
     "text": [
      "Digite o seu peso em Kg 90\n",
      "Digite a sua altura em metros 1.8\n",
      "O meu Indice de massa corporea é 27.777777777777775\n"
     ]
    }
   ],
   "source": [
    "#Calcular o IMC  = Peso/Altura²\n",
    "\n",
    "peso = float (input ('Digite o seu peso em Kg '))\n",
    "altura = float (input ('Digite a sua altura em metros '))\n",
    "\n",
    "imc = peso / (altura**2)\n",
    "\n",
    "print (\"O meu Indice de massa corporea é\", imc)"
   ]
  },
  {
   "cell_type": "code",
   "execution_count": 8,
   "metadata": {},
   "outputs": [
    {
     "name": "stdout",
     "output_type": "stream",
     "text": [
      "27.777777777777775\n",
      "27.78\n"
     ]
    }
   ],
   "source": [
    "print (imc)\n",
    "imc_string = '{:.2f}'.format(imc)\n",
    "print (imc_string)"
   ]
  }
 ],
 "metadata": {
  "kernelspec": {
   "display_name": "Python 3",
   "language": "python",
   "name": "python3"
  },
  "language_info": {
   "codemirror_mode": {
    "name": "ipython",
    "version": 3
   },
   "file_extension": ".py",
   "mimetype": "text/x-python",
   "name": "python",
   "nbconvert_exporter": "python",
   "pygments_lexer": "ipython3",
   "version": "3.6.5"
  }
 },
 "nbformat": 4,
 "nbformat_minor": 2
}
