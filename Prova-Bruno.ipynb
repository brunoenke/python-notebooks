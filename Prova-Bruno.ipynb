{
 "cells": [
  {
   "cell_type": "markdown",
   "metadata": {},
   "source": [
    "# Revisão Capítulo 01 - Fundamentos de Programação "
   ]
  },
  {
   "cell_type": "markdown",
   "metadata": {},
   "source": [
    "## 01 Ambientes de Desenvolvimento e Linguagens de Programação\n",
    "<ul><li>Paradigmas de Programação<li>Linguagens de Programação<li>Porque linguagens diferentes importam?<li>Diferenças entre linguagens compiladas e linguagens interpretadas.<li>Diferença entre linguagem fortemente tipada e fracamente tipada<li>Integrated Development Environment - IDE<li>Gerenciador de pacotes"
   ]
  },
  {
   "cell_type": "markdown",
   "metadata": {},
   "source": [
    "## 02 e 03 Estruturas Fundamentais\n",
    "<li>Operações matemáticas básicas (Adicão, subtração, divisão, multiplicação, exponenciação, radiciação>\n",
    "<li>Tipos simples <ul><li>Inteiro - int<li>Decimal - float<li>String - str</ul>\n",
    "<li>Estruturas de controle <b>IF ELSE</b>\n",
    "<li>Revisão de operações booleanas\n",
    "<li>Estruturas de repetição <b>WHILE</b>\n",
    "<li>Caracteres especiais\n",
    "<ul><li>Escape **\\\\**<li>Quebra de linha **\\\\n**<li>Tabulação **\\\\t**</ul>\n",
    "<li>Leitura de entrada do usuário\n",
    "<li>Leitura e manipulação de arquivos\n",
    "<li>Funções com e sem parâmetros"
   ]
  },
  {
   "cell_type": "markdown",
   "metadata": {},
   "source": [
    "## 04 Tratamento de Exceções\n",
    "<li>Blocos de tratamento de exceções - TRY EXCEPT ELSE FINALLY\n",
    "<li>Disparo de exceções - RAISE\n",
    "<li>Controle e testes internos - ASSERT\n",
    "<li>Criação de exceções customizadas "
   ]
  },
  {
   "cell_type": "markdown",
   "metadata": {},
   "source": [
    "## 05 Manipulação de Arquivos\n",
    "<li>Leitura de arquivos\n",
    "<li>Gravação de arquivos\n",
    "<li>Indexação e análise de conteúdo\n",
    "<li>Formatadores de Strings\n"
   ]
  },
  {
   "cell_type": "markdown",
   "metadata": {},
   "source": [
    "# Exercícios"
   ]
  },
  {
   "cell_type": "markdown",
   "metadata": {},
   "source": [
    "1 - Escreva um algoritmo para criar um arquivo com nome <b>FundamentosDeProgramacao.txt</b> no diretório <b>C:\\\\TEMP\\\\EXERCICIOS\\\\PYTHON\\\\AULA08</b>"
   ]
  },
  {
   "cell_type": "code",
   "execution_count": 3,
   "metadata": {},
   "outputs": [
    {
     "name": "stdout",
     "output_type": "stream",
     "text": [
      "erro\n"
     ]
    }
   ],
   "source": [
    "try:\n",
    "    file = open(\"C:\\\\TEMP\\\\EXERCICIOS\\\\PYTHON\\\\AULA08\\\\FundamentosDeProgramacao.txt\",\"w\")\n",
    "    conteudo =\"Qualquer coisa\"\n",
    "    file.write(conteudo)\n",
    "    file.close()\n",
    "except FileNotFoundError:\n",
    "    print ('erro')"
   ]
  },
  {
   "cell_type": "markdown",
   "metadata": {},
   "source": [
    "2 - Escreva um algoritmo para resolver a seguinte equação (305 mais 201 dividido por 3 ao cubo) e imprimir o resultado na tela mostrando apenas duas casas decimais."
   ]
  },
  {
   "cell_type": "code",
   "execution_count": 1,
   "metadata": {},
   "outputs": [
    {
     "name": "stdout",
     "output_type": "stream",
     "text": [
      "4798304.30\n"
     ]
    }
   ],
   "source": [
    "soma = 305 + 201\n",
    "equacao = (soma/3)*(soma/3)*(soma/3)\n",
    "print('{:.2f}'.format(equacao))"
   ]
  },
  {
   "cell_type": "markdown",
   "metadata": {},
   "source": [
    "3 - Escreva um algoritmo para imprimir o resultado da raiz quadrada de 1420 com 4 casas decimais."
   ]
  },
  {
   "cell_type": "code",
   "execution_count": 2,
   "metadata": {},
   "outputs": [
    {
     "name": "stdout",
     "output_type": "stream",
     "text": [
      "37.6829\n"
     ]
    }
   ],
   "source": [
    "num = 1420\n",
    "raiz = num**(1/2)\n",
    "print('{:.4f}'.format(raiz))"
   ]
  },
  {
   "cell_type": "markdown",
   "metadata": {},
   "source": [
    "4 - Escreva 10 vezes na tela a frase \"Python é \"\"muito\"\" legal!\", sem usar estruturas de repetição."
   ]
  },
  {
   "cell_type": "code",
   "execution_count": 3,
   "metadata": {},
   "outputs": [
    {
     "name": "stdout",
     "output_type": "stream",
     "text": [
      "Python é \"\"muito\"\"legal! \n",
      "Python é \"\"muito\"\"legal! \n",
      "Python é \"\"muito\"\"legal! \n",
      "Python é \"\"muito\"\"legal! \n",
      "Python é \"\"muito\"\"legal! \n",
      "Python é \"\"muito\"\"legal! \n",
      "Python é \"\"muito\"\"legal! \n",
      "Python é \"\"muito\"\"legal! \n",
      "Python é \"\"muito\"\"legal! \n",
      "Python é \"\"muito\"\"legal! \n",
      "\n"
     ]
    }
   ],
   "source": [
    "frase= 'Python é \"\\\"muito\"\\\"legal! \\n'\n",
    "print(frase*10)    "
   ]
  },
  {
   "cell_type": "markdown",
   "metadata": {},
   "source": [
    "5 - Peça para o usuário digitar um número e imprima-o na tela, na frase **\"Você digitou o número XX\"**, onde **XX** é o número digitado. Se o usuário não digitar um número, informe uma mensagem de erro e peça novamente para que ele digite um número. O programa só deve fechar quando o usuário tiver digitado um número."
   ]
  },
  {
   "cell_type": "code",
   "execution_count": 3,
   "metadata": {},
   "outputs": [
    {
     "name": "stdout",
     "output_type": "stream",
     "text": [
      "Digite um número bs\n",
      "Por favor, digite um número válido\n",
      "Digite um número 2\n",
      "Você digitou o número 2.0\n"
     ]
    }
   ],
   "source": [
    "while True:\n",
    "    try:\n",
    "        numero = float (input('Digite um número '))\n",
    "        break\n",
    "    except ValueError:\n",
    "        print('Por favor, digite um número válido')\n",
    "        \n",
    "if type(numero)is float:\n",
    "    print (\"Você digitou o número {}\".format(numero))"
   ]
  },
  {
   "cell_type": "markdown",
   "metadata": {},
   "source": [
    "6 - Imprima o seu nome na tela 10 vezes, usando uma estrutura WHILE."
   ]
  },
  {
   "cell_type": "code",
   "execution_count": 29,
   "metadata": {},
   "outputs": [
    {
     "name": "stdout",
     "output_type": "stream",
     "text": [
      "Bruno Enke\n",
      "\n",
      "Bruno Enke\n",
      "\n",
      "Bruno Enke\n",
      "\n",
      "Bruno Enke\n",
      "\n",
      "Bruno Enke\n",
      "\n",
      "Bruno Enke\n",
      "\n",
      "Bruno Enke\n",
      "\n",
      "Bruno Enke\n",
      "\n",
      "Bruno Enke\n",
      "\n",
      "Bruno Enke\n",
      "\n"
     ]
    }
   ],
   "source": [
    "nome = \"Bruno Enke\\n\"\n",
    "i = 0\n",
    "while(i < 10):\n",
    "    print(nome)\n",
    "    i = i + 1"
   ]
  },
  {
   "cell_type": "markdown",
   "metadata": {},
   "source": [
    "7 - Peça para o usuário entrar um nome e conte o seu número de letras. Imprima o nome uma vez para cada letra contada, alternando a saída com todas maiúsculas nas vezes pares, e minúsculas nas vezes ímpares."
   ]
  },
  {
   "cell_type": "code",
   "execution_count": 4,
   "metadata": {},
   "outputs": [
    {
     "name": "stdout",
     "output_type": "stream",
     "text": [
      "Digite o seu nome bruno\n",
      "bruno\n",
      "BRUNO\n",
      "bruno\n",
      "BRUNO\n",
      "bruno\n"
     ]
    }
   ],
   "source": [
    "userName = input ('Digite o seu nome ')\n",
    "contador = len(userName)\n",
    "maiusculo = userName.upper()\n",
    "minusculo = userName.lower()\n",
    "num_linhas = 1    \n",
    "while num_linhas <= contador: \n",
    "    if num_linhas %2 == 0:\n",
    "        print(maiusculo)\n",
    "    else:\n",
    "        print(minusculo)\n",
    "    num_linhas += 1"
   ]
  },
  {
   "cell_type": "markdown",
   "metadata": {},
   "source": [
    "8 - Crie uma string com 20 linhas. Em cada linha escreva a palavra **\"Python\"**. Antes da palavra python de cada linha insira tabulações, nesta seqüência: primeira linha - uma tabulação; segunda linha - duas tabulações; terceira linha - três tabulações; e assim por diante até na vigésima linha - vinte tabulações. No fim, conte o número de tabulações na string e imprima em outra linha **\"Essa string tem XX tabulações\"**, onde **XX** é o número de tabulações contadas.   "
   ]
  },
  {
   "cell_type": "code",
   "execution_count": 17,
   "metadata": {},
   "outputs": [
    {
     "name": "stdout",
     "output_type": "stream",
     "text": [
      "210\n",
      " \t Python\n",
      " \t\t Python\n",
      " \t\t\t Python\n",
      " \t\t\t\t Python\n",
      " \t\t\t\t\t Python\n",
      " \t\t\t\t\t\t Python\n",
      " \t\t\t\t\t\t\t Python\n",
      " \t\t\t\t\t\t\t\t Python\n",
      " \t\t\t\t\t\t\t\t\t Python\n",
      " \t\t\t\t\t\t\t\t\t\t Python\n",
      " \t\t\t\t\t\t\t\t\t\t\t Python\n",
      " \t\t\t\t\t\t\t\t\t\t\t\t Python\n",
      " \t\t\t\t\t\t\t\t\t\t\t\t\t Python\n",
      " \t\t\t\t\t\t\t\t\t\t\t\t\t\t Python\n",
      " \t\t\t\t\t\t\t\t\t\t\t\t\t\t\t Python\n",
      " \t\t\t\t\t\t\t\t\t\t\t\t\t\t\t\t Python\n",
      " \t\t\t\t\t\t\t\t\t\t\t\t\t\t\t\t\t Python\n",
      " \t\t\t\t\t\t\t\t\t\t\t\t\t\t\t\t\t\t Python\n",
      " \t\t\t\t\t\t\t\t\t\t\t\t\t\t\t\t\t\t\t Python\n",
      " \t\t\t\t\t\t\t\t\t\t\t\t\t\t\t\t\t\t\t\t Python\n",
      "\n"
     ]
    }
   ],
   "source": [
    "j = 0\n",
    "tabulacao = \"\\t\"\n",
    "cont = 0\n",
    "string = \"\"\n",
    "while j < 20:\n",
    "    j = j + 1\n",
    "    tabulacao = \"\\t\" * j\n",
    "    cont = cont + tabulacao.count(\"\\t\")\n",
    "    string = \"{} {} {}\".format(string,tabulacao,\"Python\\n\")\n",
    "print(cont)\n",
    "print(string)    "
   ]
  },
  {
   "cell_type": "markdown",
   "metadata": {},
   "source": [
    "9 - Crie uma função que recebe dois parâmetros e retorna a soma dos dois. Chame essa função passando os valores 10 e 20, e verifique se o resultado é 30. Se for, imprima na tela. Se não for, imprima uma mensagem de erro. "
   ]
  },
  {
   "cell_type": "code",
   "execution_count": 23,
   "metadata": {},
   "outputs": [
    {
     "name": "stdout",
     "output_type": "stream",
     "text": [
      "30\n"
     ]
    }
   ],
   "source": [
    "def somar (numero1, numero2):\n",
    "    return numero1 + numero2\n",
    "\n",
    "try:\n",
    "    resultado = somar(10,20)\n",
    "    \n",
    "    if resultado == 30:\n",
    "        print (resultado)   \n",
    "except:\n",
    "        print('Não foi possível calcular a operação, por favor tente novamente')      "
   ]
  },
  {
   "cell_type": "markdown",
   "metadata": {},
   "source": [
    "10 - Crie uma função chamada **LeArquivo**, que recebe como parâmetro o caminho completo com o nome de um arquivo e devolve uma string com todo o seu conteúdo. Teste-a para ver se funciona, imprimindo na tela o conteúdo de um arquivo qualquer. "
   ]
  },
  {
   "cell_type": "code",
   "execution_count": 28,
   "metadata": {},
   "outputs": [
    {
     "name": "stdout",
     "output_type": "stream",
     "text": [
      "Digite o caminho do arquivo C:\\Temp\\sample.txt\n",
      "vai\n",
      "vai\n",
      "vai\n",
      "vai\n",
      "vai\n",
      "vai\n",
      "vai\n",
      "vai\n",
      "vai\n",
      "vai\n",
      "vai\n"
     ]
    }
   ],
   "source": [
    "def LeArquivo (caminho):\n",
    "    arquivo = open(caminho,\"r\")\n",
    "    conteudo = arquivo.read()\n",
    "    return(conteudo)\n",
    "pasta = input ('Digite o caminho do arquivo ')\n",
    "print(LeArquivo (pasta))"
   ]
  },
  {
   "cell_type": "markdown",
   "metadata": {},
   "source": [
    "11 - Tente abrir o arquivo \"C:\\\\WINDOWS\\\\NAO_EXISTE.TXT\". Trate o erro e mostre na tela apenas a mensagem \"Esse arquivo não existe\"."
   ]
  },
  {
   "cell_type": "code",
   "execution_count": 41,
   "metadata": {},
   "outputs": [
    {
     "name": "stdout",
     "output_type": "stream",
     "text": [
      "Esse arquivo não existe\n"
     ]
    }
   ],
   "source": [
    "try:\n",
    "    file = open(\"C:\\\\WINDOWS\\\\NAO_EXISTE.TXT\",\"r\")\n",
    "    conteudo = file.read()\n",
    "    print (conteudo)\n",
    "    file.close()\n",
    "except FileNotFoundError:\n",
    "    print(\"Esse arquivo não existe\")"
   ]
  },
  {
   "cell_type": "markdown",
   "metadata": {},
   "source": [
    "12 - Peça para o usuário entrar sua idade. Se ele digitar qualquer idade abaixo de 18 anos, dispare uma exceção customizada com a mensagem \"Proibido venda para menores de 18 anos\"."
   ]
  },
  {
   "cell_type": "code",
   "execution_count": 21,
   "metadata": {},
   "outputs": [
    {
     "name": "stdout",
     "output_type": "stream",
     "text": [
      "idade: 16\n"
     ]
    },
    {
     "ename": "Exception",
     "evalue": "Menor de idade",
     "output_type": "error",
     "traceback": [
      "\u001b[1;31m---------------------------------------------------------------------------\u001b[0m",
      "\u001b[1;31mException\u001b[0m                                 Traceback (most recent call last)",
      "\u001b[1;32m<ipython-input-21-7076d44e0762>\u001b[0m in \u001b[0;36m<module>\u001b[1;34m()\u001b[0m\n\u001b[0;32m      1\u001b[0m \u001b[0midade\u001b[0m \u001b[1;33m=\u001b[0m \u001b[0mint\u001b[0m\u001b[1;33m(\u001b[0m\u001b[0minput\u001b[0m\u001b[1;33m(\u001b[0m\u001b[1;34m\"idade: \"\u001b[0m\u001b[1;33m)\u001b[0m\u001b[1;33m)\u001b[0m\u001b[1;33m\u001b[0m\u001b[0m\n\u001b[0;32m      2\u001b[0m \u001b[1;32mif\u001b[0m \u001b[0midade\u001b[0m \u001b[1;33m<\u001b[0m \u001b[1;36m18\u001b[0m\u001b[1;33m:\u001b[0m\u001b[1;33m\u001b[0m\u001b[0m\n\u001b[1;32m----> 3\u001b[1;33m     \u001b[1;32mraise\u001b[0m \u001b[0mException\u001b[0m\u001b[1;33m(\u001b[0m\u001b[1;34m\"Menor de idade\"\u001b[0m\u001b[1;33m)\u001b[0m\u001b[1;33m\u001b[0m\u001b[0m\n\u001b[0m",
      "\u001b[1;31mException\u001b[0m: Menor de idade"
     ]
    }
   ],
   "source": [
    "idade = int(input(\"idade: \"))\n",
    "if idade < 18:\n",
    "    raise Exception(\"Menor de idade\")"
   ]
  },
  {
   "cell_type": "markdown",
   "metadata": {},
   "source": [
    "13 - Escreva um algoritmo para abrir um arquivo texto e identificar qual é a letra que mais aparece no arquivo."
   ]
  },
  {
   "cell_type": "code",
   "execution_count": 25,
   "metadata": {},
   "outputs": [
    {
     "name": "stdout",
     "output_type": "stream",
     "text": [
      "A letra e aparece 490 vezes\n"
     ]
    }
   ],
   "source": [
    "from string import ascii_lowercase\n",
    "file = open (\"C:\\\\Users\\\\Bruno\\Documents\\\\Projects\\\\lorem.txt\")\n",
    "conteudo = file.read()\n",
    "letra = \"\"\n",
    "contador = 0\n",
    "maior = 0\n",
    "for c in ascii_lowercase:\n",
    "    contador = conteudo.count(c)\n",
    "    if contador > maior:\n",
    "        maior = contador\n",
    "        letra = c\n",
    "print (\"A letra {} aparece {} vezes\".format(letra, maior))"
   ]
  },
  {
   "cell_type": "markdown",
   "metadata": {},
   "source": [
    "14 - Crie um arquivo texto com a tabuada de 1 a 10. Formate a saída na tela para os números ficarem alinhados, e os títulos da tabuada centralizados. "
   ]
  },
  {
   "cell_type": "code",
   "execution_count": 35,
   "metadata": {},
   "outputs": [],
   "source": [
    "tabuada = open(\"tabuada.txt\",\"w\")\n",
    "count = 1\n",
    "#para cada tabuada\n",
    "while count <= 10:\n",
    "    titulo = \"Tabuada de {}\".format(count) \n",
    "        \n",
    "    tabuada.writelines(\"{:*^50}\".format(titulo))\n",
    "    tabuada.writelines(\"\\n\")\n",
    "    \n",
    "    fator = 1\n",
    "    while fator <= 10:\n",
    "        linha = \"{} * {} = {}\".format(count, fator, count*fator)\n",
    "        tabuada.writelines(\"{:<50}\".format(linha))\n",
    "        tabuada.writelines(\"\\n\")\n",
    "        fator += 1\n",
    "    #proxima tabuada\n",
    "    count += 1\n",
    "\n",
    "tabuada.close()"
   ]
  },
  {
   "cell_type": "markdown",
   "metadata": {},
   "source": [
    "15 - Exporte este notebook para um arquivo PDF usando o comando **!jupyter nbconvert --to PDF Revisao_capitulo_01.ipynb** . Se aparecer um erro, analise-o e instale o pacote que falta usando o comando conda."
   ]
  },
  {
   "cell_type": "code",
   "execution_count": null,
   "metadata": {},
   "outputs": [],
   "source": [
    "!jupyter nbconvert --to PDF Revisao_capitulo_01.ipynb"
   ]
  }
 ],
 "metadata": {
  "kernelspec": {
   "display_name": "Python 3",
   "language": "python",
   "name": "python3"
  },
  "language_info": {
   "codemirror_mode": {
    "name": "ipython",
    "version": 3
   },
   "file_extension": ".py",
   "mimetype": "text/x-python",
   "name": "python",
   "nbconvert_exporter": "python",
   "pygments_lexer": "ipython3",
   "version": "3.6.5"
  }
 },
 "nbformat": 4,
 "nbformat_minor": 2
}
