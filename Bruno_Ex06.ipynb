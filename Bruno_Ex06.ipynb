{
 "cells": [
  {
   "cell_type": "code",
   "execution_count": 6,
   "metadata": {},
   "outputs": [],
   "source": [
    "#Crie um dictionary vazio com o nome Produtos\n",
    "produtos = dict()\n",
    "#Adicione 10 produtos a esse dictionary, usando os números de 1 a 10 como chave.\n",
    "produto = ['Opa Bier 350ml', 1.79]\n",
    "produto2 = ['Amendoim 500g', 9.79]\n",
    "produto3 = ['Queijo Parmesão Kg', 16.79]\n",
    "produto4 = ['Costela Bovina kg', 18.10]\n",
    "produto5 = ['Café Extraforte 500g', 9.20]\n",
    "produto6 = ['Macarrão Semola 500g', 3.19]\n",
    "produto7 = ['Arroz Branco 1kg', 2.99]\n",
    "produto8 = ['Feijão  1Kg', 4.47 ]\n",
    "produto9 = ['Filé de Peito de Frango 1kg', 12.27]\n",
    "produto10 = ['Confeito M&M\\'S Chocolate 200g', 12,40 ]\n",
    "produtos = {'01':produto,'02':produto2,'03':produto3,'04':produto4,\n",
    "            '05':produto5,'06':produto6,'07':produto7 ,'08':produto8,\n",
    "            '09':produto9, '10':produto10}"
   ]
  },
  {
   "cell_type": "code",
   "execution_count": 5,
   "metadata": {},
   "outputs": [
    {
     "name": "stdout",
     "output_type": "stream",
     "text": [
      "['Café Extraforte 500g', 9.2]\n"
     ]
    }
   ],
   "source": [
    "#Imprima o item com chave 5.\n",
    "print (produtos.get('05','item Não encontrado!'))"
   ]
  },
  {
   "cell_type": "code",
   "execution_count": 7,
   "metadata": {},
   "outputs": [
    {
     "name": "stdout",
     "output_type": "stream",
     "text": [
      "['Filé Mignon Suíno kg', 20.15]\n",
      "10\n",
      "dict_values([['Opa Bier 350ml', 1.79], ['Amendoim 500g', 9.79], ['Queijo Parmesão Kg', 16.79], ['Costela Bovina kg', 18.1], ['Café Extraforte 500g', 9.2], ['Macarrão Semola 500g', 3.19], ['Arroz Branco 1kg', 2.99], ['Feijão  1Kg', 4.47], ['Filé Mignon Suíno kg', 20.15], [\"Confeito M&M'S Chocolate 200g\", 12, 40], ['Filé de Tilápia Kg', 9.15]])\n",
      "['Opa Bier 350ml', 1.79]\n",
      "['Amendoim 500g', 9.79]\n",
      "['Queijo Parmesão Kg', 16.79]\n",
      "['Costela Bovina kg', 18.1]\n",
      "['Café Extraforte 500g', 9.2]\n",
      "['Macarrão Semola 500g', 3.19]\n",
      "['Arroz Branco 1kg', 2.99]\n",
      "['Feijão  1Kg', 4.47]\n",
      "['Filé Mignon Suíno kg', 20.15]\n",
      "[\"Confeito M&M'S Chocolate 200g\", 12, 40]\n",
      "['Filé de Tilápia Kg', 9.15]\n"
     ]
    }
   ],
   "source": [
    "#Altere o valor do item com chave 9.\n",
    "produto9 = ['Filé Mignon Suíno kg', 20.15]\n",
    "produtos['09'] = produto9\n",
    "#produtos.update({'09':produto9})\n",
    "print(produtos.get('09'))\n",
    "\n",
    "#Qual o tamanho do dictionary?\n",
    "print(len(produtos))\n",
    "\n",
    "#Adicione um novo produto ao dictionary\n",
    "produto11 = ['Filé de Tilápia Kg', 9.15]\n",
    "produtos['11'] = produto11\n",
    "\n",
    "#Imprima uma lista com todos os valores do dictionary\n",
    "print(produtos.values())\n",
    "\n",
    "for produto in produtos.values():\n",
    "    print (produto)"
   ]
  },
  {
   "cell_type": "code",
   "execution_count": 8,
   "metadata": {},
   "outputs": [
    {
     "name": "stdout",
     "output_type": "stream",
     "text": [
      "{'A': 3, 'N': 4, 'T': 4, 'I': 5, 'C': 2, 'O': 2, 'S': 3, 'U': 1, 'L': 1, 'M': 2, 'E': 2}\n"
     ]
    }
   ],
   "source": [
    "#Conte o número de ocorrências de cada letra na palavra ‘ANTICONSTITUCIONALISSIMAMENTE’ e imprima na tela. \n",
    "palavra = 'ANTICONSTITUCIONALISSIMAMENTE'\n",
    "dword = dict()\n",
    "#para cada item = letra  na str palavra:\n",
    "for letra in palavra:\n",
    "    #Se a letra não está do dict adiciona letra e incrementa o contador, senão incrementa o contador\n",
    "    dword[letra] = dword.get(letra,0)+1\n",
    "print(dword)"
   ]
  },
  {
   "cell_type": "code",
   "execution_count": 10,
   "metadata": {
    "scrolled": true
   },
   "outputs": [
    {
     "data": {
      "image/png": "[encoded data removed]",
      "text/plain": [
       "<Figure size 432x288 with 1 Axes>"
      ]
     },
     "metadata": {},
     "output_type": "display_data"
    }
   ],
   "source": [
    "#Faça um gráfico de barras para mostrar a distribuição das ocorrências das letras no arquivo LOREM.TXT\n",
    "\n",
    "frase = 'Vamos contar quantas vezes cada letra aparece nessa string'\n",
    "\n",
    "import string\n",
    "file = open (\"lorem.txt\")\n",
    "\n",
    "letras= dict()\n",
    "for linha in file:\n",
    "    linha = linha.translate(str.maketrans('','', string.punctuation))\n",
    "    linha = linha.strip()\n",
    "    for letra in linha:\n",
    "        letras[letra] = letras.get(letra,0)+1\n",
    "del letras[' ']        \n",
    "import matplotlib.pyplot as plt\n",
    "\n",
    "plt.bar(letras.keys(), letras.values())\n",
    "plt.title(frase)\n",
    "plt.show()"
   ]
  },
  {
   "cell_type": "code",
   "execution_count": 42,
   "metadata": {},
   "outputs": [],
   "source": [
    "#Carregue os itens e seus respectivos preços de um arquivo txt para um Dictionary"
   ]
  },
  {
   "cell_type": "code",
   "execution_count": null,
   "metadata": {},
   "outputs": [],
   "source": [
    "#Crie um programa para consultar preços a partir do nome do produto (parcial)\n"
   ]
  },
  {
   "cell_type": "code",
   "execution_count": null,
   "metadata": {},
   "outputs": [],
   "source": [
    "#Crie um programa para fazer um pedido. O usuário deve procurar pelo produto e informar sua quantidade.\n",
    "#No fim o programa deve totalizar o pedido \n",
    "#e mostrar a lista de produtos comprados, suas quantidades, seus preços e o preço total.\n"
   ]
  }
 ],
 "metadata": {
  "kernelspec": {
   "display_name": "Python 3",
   "language": "python",
   "name": "python3"
  },
  "language_info": {
   "codemirror_mode": {
    "name": "ipython",
    "version": 3
   },
   "file_extension": ".py",
   "mimetype": "text/x-python",
   "name": "python",
   "nbconvert_exporter": "python",
   "pygments_lexer": "ipython3",
   "version": "3.6.5"
  }
 },
 "nbformat": 4,
 "nbformat_minor": 2
}
