{
 "cells": [
  {
   "cell_type": "markdown",
   "metadata": {},
   "source": [
    "#Criar rotinas funçoes\n",
    "def nome_da_funcao():\n",
    "    algoritmo\n",
    "\n",
    "#Parâmetros: variáveis que passamos para uma função\n",
    "def nome_da_funcao(parametro,outro_parametro):\n",
    "    algoritmo\n",
    "    \n",
    "#Exemplo\n",
    "def print_bruno(message):\n",
    "    print(message + \"benke\")\n",
    "print_bruno(\"Qualquer string \")\n",
    "\n",
    "#Funções com retorno\n",
    "\n",
    "def multiplica(n1,n2)\n",
    "    return n1 * n2\n",
    "print (multiplica(2,5))\n",
    "\n",
    "#Funções como parâmetro\n",
    "#Exemplos:\n",
    "def soma (n1,n2)\n",
    "    return n1 + n2\n",
    "    \n",
    "def subtrai (n1,n2)\n",
    "    return n1 - n2\n",
    "    \n",
    "def calcula (operacao,n1,n2)\n",
    "    return operacao(n1,n2)\n",
    "    \n",
    "op = input(\"Digite a operação\")\n",
    "    if (op=='+');\n",
    "        operacao= soma\n",
    "    if (op=='-');\n",
    "        operacao= subtrai\n",
    "print(calcula(operacao,2,2)\n",
    "\n"
   ]
  }
 ],
 "metadata": {
  "kernelspec": {
   "display_name": "Python 3",
   "language": "python",
   "name": "python3"
  },
  "language_info": {
   "codemirror_mode": {
    "name": "ipython",
    "version": 3
   },
   "file_extension": ".py",
   "mimetype": "text/x-python",
   "name": "python",
   "nbconvert_exporter": "python",
   "pygments_lexer": "ipython3",
   "version": "3.6.5"
  }
 },
 "nbformat": 4,
 "nbformat_minor": 2
}
