{
 "cells": [
  {
   "cell_type": "code",
   "execution_count": null,
   "metadata": {},
   "outputs": [],
   "source": [
    "from string import ascii_lowercase, ascii_uppercase, ascii_letters \n",
    "\n",
    "file = open(\"lorem.txt\", 'r')\n",
    "conteudo = file.read()\n",
    "\n",
    "#Quantas vezes a letra “M” aparece no arquivo “lorem.txt”?\n",
    "for char in ascii_uppercase:\n",
    "    if char == 'M':\n",
    "        count = conteudo.count(char)\n",
    "        print('A letra {} aparece {} vezes'.format(char, count))"
   ]
  },
  {
   "cell_type": "code",
   "execution_count": null,
   "metadata": {},
   "outputs": [],
   "source": [
    "#Quantas vezes a palavra “lorem” aparece no mesmo arquivo?\n",
    "\n",
    "loren_count = conteudo.lower().count('lorem')\n",
    "print('A palavra \\'lorem\\' aparece {} vezes no arquivo'.format(loren_count))"
   ]
  },
  {
   "cell_type": "code",
   "execution_count": null,
   "metadata": {},
   "outputs": [],
   "source": [
    "#Quais letras do alfabeto não aparecem no arquivo “lorem.txt”?\n",
    "nao_aparece = ''\n",
    "for char in ascii_letters:\n",
    "    count = conteudo.count(char)\n",
    "    if count == 0:\n",
    "        nao_aparece += ' ' + char\n",
    "        \n",
    "print('As letras que não aparecem são {}'.format(nao_aparece))"
   ]
  },
  {
   "cell_type": "code",
   "execution_count": null,
   "metadata": {},
   "outputs": [],
   "source": [
    "#Qual letra maiúscula aparece mais vezes no arquivo “lorem.txt”?\n",
    "maior = 0\n",
    "for char in ascii_uppercase:\n",
    "    count = conteudo.count(char)\n",
    "    if count > maior:\n",
    "        maior = count\n",
    "        mais_aparece = char\n",
    "print('A letra maiúscula que mais aparece é {}'.format(mais_aparece))"
   ]
  },
  {
   "cell_type": "code",
   "execution_count": null,
   "metadata": {},
   "outputs": [],
   "source": [
    "#Faça uma lista com os números de 1 a 100\n",
    "#em ordem inversa, \n",
    "#em formato hexadecimal.\n",
    "count = 100\n",
    "while count > 0:\n",
    "    print(\"{:<5}\".format(count), \"{0:<10b}\".format(count))\n",
    "    count -= 1\n",
    "    \n"
   ]
  },
  {
   "cell_type": "code",
   "execution_count": 3,
   "metadata": {},
   "outputs": [],
   "source": [
    "#Gere um arquivo com a tabuada de 10 a 20, \n",
    "#com as colunas alinhadas à esquerda \n",
    "#e separadores entre cada grupo de 10 com título centralizado.\n",
    "tabuada = open(\"tabuada.txt\",\"w\")\n",
    "count = 10\n",
    "#para cada tabuada\n",
    "while count <= 20:\n",
    "    titulo = \"Tabuada de {}\".format(count) \n",
    "        \n",
    "    tabuada.writelines(\"{:*^50}\".format(titulo))\n",
    "    tabuada.writelines(\"\\n\")\n",
    "    \n",
    "    fator = 1\n",
    "    while fator <= 10:\n",
    "        linha = \"{} * {} = {}\".format(count, fator, count*fator)\n",
    "        tabuada.writelines(\"{:<50}\".format(linha))\n",
    "        tabuada.writelines(\"\\n\")\n",
    "        fator += 1\n",
    "    #proxima tabuada\n",
    "    count += 1\n",
    "\n",
    "tabuada.close()"
   ]
  },
  {
   "cell_type": "code",
   "execution_count": null,
   "metadata": {
    "collapsed": true
   },
   "outputs": [],
   "source": [
    "#Crie um arquivo contendo os números de 100 a 1000000 \n",
    "#em formato hexadecimal.\n",
    "\n",
    "numeros = open(\"numeros_hexa.txt\",\"w\")\n",
    "count = 100\n",
    "while count <= 10000:\n",
    "    linha = '{0:<8} {0:x}'.format(count)\n",
    "    numeros.writelines(linha)\n",
    "    numeros.writelines(\"\\n\")\n",
    "    count +=1\n",
    "    \n",
    "numeros.close()"
   ]
  },
  {
   "cell_type": "code",
   "execution_count": null,
   "metadata": {
    "collapsed": true
   },
   "outputs": [],
   "source": [
    "#Edite o arquivo criado no exercício anterior, \n",
    "#apague todo o seu conteúdo \n",
    "#e grave nele uma lista de números de 100 a 1000000, \n",
    "#em formato binário, em ordem inversa (do maior para o menor).\n",
    "\n",
    "numeros = open(\"numeros_bin.txt\",\"w\")\n",
    "count = 1000000\n",
    "while count >= 100:\n",
    "    linha = '{:<8} {:>25b}'.format(count, count)\n",
    "    numeros.writelines(linha)\n",
    "    numeros.writelines(\"\\n\")\n",
    "    count -=1\n",
    "    \n",
    "numeros.close()"
   ]
  },
  {
   "cell_type": "code",
   "execution_count": null,
   "metadata": {},
   "outputs": [],
   "source": [
    "#Leia o arquivo criado anteriormente \n",
    "#e grave um novo arquivo com o mesmo conteúdo, \n",
    "#eliminando todos os números inteiros terminados em zero.\n",
    "\n",
    "numeros = open(\"numeros_bin.txt\")\n",
    "novo_arquivo = open(\"numeros_sem_zero.txt\", \"w\")\n",
    "for linha in numeros:\n",
    "    parte_decimal = linha[0:7]\n",
    "    parte_decimal = parte_decimal.strip()\n",
    "    if not (parte_decimal.endswith('0')):\n",
    "        novo_arquivo.writelines(linha)\n",
    "    \n",
    "novo_arquivo.close\n"
   ]
  },
  {
   "cell_type": "code",
   "execution_count": null,
   "metadata": {},
   "outputs": [],
   "source": [
    "#Crie um algoritmo que seja capaz de abrir um arquivo texto \n",
    "#e contar as palavras, \n",
    "#listando as 10 palavras que mais aparecem no texto com sua respectiva contagem.\n",
    "\n",
    "file = open(\"lorem.txt\", 'r')\n",
    "conteudo = file.read()\n",
    "# remover virgulas\n",
    "conteudo = conteudo.replace(\",\", \"\")\n",
    "#remover pontos\n",
    "conteudo = conteudo.replace(\".\", \"\")\n",
    "#deixar tudo em maiúscula\n",
    "conteudo = conteudo.upper()\n",
    "#separar palavras\n",
    "palavras = conteudo.split()\n",
    "\n",
    "lista = []\n",
    "# identificar as palavras do texto\n",
    "# para cada palabra\n",
    "for palavra in palavras:\n",
    "    #verificar se ela já foi colocada na lista\n",
    "    if not (palavra in lista):\n",
    "        #senao, colocar\n",
    "        lista.append(palavra)\n",
    "\n",
    "nova_lista = []\n",
    "#contar palavras na lista  \n",
    "for palavra in lista:\n",
    "    #formatar com zeros à esquerda para ordenar depois\n",
    "    nova_lista.append('{:0>4} {}'.format(conteudo.count(palavra), palavra))\n",
    "\n",
    "#ordenar inversamente\n",
    "nova_lista.sort(reverse=True)\n",
    "\n",
    "#imprimir as 10 primeiras\n",
    "i = 0\n",
    "while i < 10:\n",
    "    i += 1\n",
    "    print(nova_lista[i])"
   ]
  },
  {
   "cell_type": "code",
   "execution_count": null,
   "metadata": {},
   "outputs": [],
   "source": [
    "#Crie um algoritmo que seja capaz de \n",
    "#percorrer uma estrutura de diretórios e \n",
    "#fazer uma lista dos 10 maiores arquivos, \n",
    "#mostrando seu caminho completo e seu tamanho em MB.\n",
    "import os\n",
    "\n",
    "print('{:<10}  -  {}'.format('Tamanho', 'Caminho'))\n",
    "for file in os.scandir('c:\\\\temp'):\n",
    "    if (file.is_dir()):\n",
    "        for file in os.scandir(file.path):\n",
    "            print('{:0>10}  -  {}'.format(file.stat().st_size, file.path))            \n",
    "    print('{:0>10}  -  {}'.format(file.stat().st_size, file.path))\n",
    "\n",
    "    "
   ]
  },
  {
   "cell_type": "code",
   "execution_count": null,
   "metadata": {},
   "outputs": [],
   "source": [
    "#Crie um algoritmo que seja capaz de \n",
    "#percorrer uma estrutura de diretórios e \n",
    "#fazer uma lista dos 10 maiores arquivos, \n",
    "#mostrando seu caminho completo e seu tamanho em MB.\n",
    "\n",
    "import os\n",
    "\n",
    "caminho = input(\"Qual diretorio deve ser analisado:\")\n",
    "maiores_arquivos = open(\"maiores_arquivos.txt\", \"w\")\n",
    "lista = []\n",
    "for file in os.scandir(caminho):\n",
    "    if (file.is_dir()):\n",
    "        for file in os.scandir(file.path):\n",
    "            lista.append('{:0>10}  -  {}'.format(file.stat().st_size, file.path))            \n",
    "    lista.append('{:0>10}  -  {}'.format(file.stat().st_size, file.path))\n",
    "lista.sort(reverse=True)\n",
    "\n",
    "i = 0\n",
    "while i <= 10:\n",
    "    maiores_arquivos.writelines(lista[i])\n",
    "    maiores_arquivos.writelines('\\n')\n",
    "    print(lista[i])\n",
    "    i+= 1\n",
    "    \n",
    "maiores_arquivos.close()"
   ]
  },
  {
   "cell_type": "code",
   "execution_count": 7,
   "metadata": {},
   "outputs": [],
   "source": [
    "#Gere um arquivo com a tabuada de 10 a 20, \n",
    "#com as colunas alinhadas à esquerda \n",
    "#e separadores entre cada grupo de 10 com título centralizado.\n",
    "tabuada = open(\"tabuada.txt\",\"w\")\n",
    "count = 1\n",
    "#para cada tabuada\n",
    "while count <= 10:\n",
    "    titulo = \"Tabuada de {}\".format(count) \n",
    "        \n",
    "    tabuada.writelines(\"{:*^50}\".format(titulo))\n",
    "    tabuada.writelines(\"\\n\")\n",
    "    \n",
    "    fator = 1\n",
    "    while fator <= 10:\n",
    "        linha = \"{} * {} = {}\".format(count, fator, count*fator)\n",
    "        tabuada.writelines(\"{:<50}\".format(linha))\n",
    "        tabuada.writelines(\"\\n\")\n",
    "        fator += 1\n",
    "    #proxima tabuada\n",
    "    count += 1\n",
    "\n",
    "tabuada.close()"
   ]
  }
 ],
 "metadata": {
  "kernelspec": {
   "display_name": "Python 3",
   "language": "python",
   "name": "python3"
  },
  "language_info": {
   "codemirror_mode": {
    "name": "ipython",
    "version": 3
   },
   "file_extension": ".py",
   "mimetype": "text/x-python",
   "name": "python",
   "nbconvert_exporter": "python",
   "pygments_lexer": "ipython3",
   "version": "3.6.5"
  }
 },
 "nbformat": 4,
 "nbformat_minor": 2
}
