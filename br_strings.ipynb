{
 "cells": [
  {
   "cell_type": "code",
   "execution_count": null,
   "metadata": {},
   "outputs": [],
   "source": [
    "variavel = open(\"sample.txt\",\"w\")\n",
    "variavel.write (\"Teste de arquivo Python 3\")\n",
    "variavel.close()\n",
    "#conteudo = variavel.read()\n",
    "#print(conteudo)\n",
    "\n",
    "#help (variavel)\n",
    "#dir(variavel)"
   ]
  },
  {
   "cell_type": "code",
   "execution_count": 1,
   "metadata": {},
   "outputs": [
    {
     "name": "stdout",
     "output_type": "stream",
     "text": [
      "Teste de arquivo Python 3\n",
      "modo leitura\n",
      "\n"
     ]
    }
   ],
   "source": [
    "try:\n",
    "    variavel = open(\"sample.txt\",\"r\")\n",
    "    conteudo = variavel.read()\n",
    "    print(conteudo)\n",
    "except:\n",
    "    print('Erro!')\n",
    "\n",
    "if (variavel.writable()):\n",
    "    print(\"modo escrita\")\n",
    "else:\n",
    "    print(\"modo leitura\")\n",
    "    variavel.close()\n",
    "    variavel = open(\"sample.txt\",\"w\")\n",
    "    variavel.write (\"Escrevemos novamente - Teste de arquivo Python 3\")\n",
    "    variavel.close()\n",
    "    print('')"
   ]
  },
  {
   "cell_type": "code",
   "execution_count": null,
   "metadata": {},
   "outputs": [],
   "source": [
    "try:\n",
    "    caminho_do_arquivo = input(\"Digite o caminho\")\n",
    "    modo_leitura =input (\"Digite o modo de leitura (w ou r)\")\n",
    "    variavel = open(caminho_do_arquivo,'r')\n",
    "    conteudo = variavel.read()\n",
    "    conteudo += 'Mais uma linha \\n e outra linha\\n'\n",
    "    variavel.close()\n",
    "    variavel = open(caminho_do_arquivo,'w')\n",
    "    variavel.write (conteudo)\n",
    "    variavel.close()\n",
    "    print(\"escrevemos no arquivo !!!\")\n",
    "except Exception as error:\n",
    "    print(error)"
   ]
  },
  {
   "cell_type": "code",
   "execution_count": null,
   "metadata": {},
   "outputs": [],
   "source": [
    "#help (variavel)\n",
    "#dir(variavel)"
   ]
  },
  {
   "cell_type": "code",
   "execution_count": 1,
   "metadata": {},
   "outputs": [],
   "source": [
    "conteudo = \"Bruno Enke\"\n",
    "i=0\n",
    "while(i < 100):\n",
    "    conteudo = conteudo + 'Bruno Enke \\n'\n",
    "    i += 1\n",
    "file = open (\"c:\\\\Temp\\\\meu_nome_cem_vezes.txt\", \"w\")\n",
    "file.write(conteudo)\n",
    "file.close()"
   ]
  },
  {
   "cell_type": "code",
   "execution_count": 2,
   "metadata": {},
   "outputs": [
    {
     "name": "stdout",
     "output_type": "stream",
     "text": [
      "<_io.TextIOWrapper name='c:\\\\temp\\\\arquivo.txt' mode='w' encoding='cp1252'>\n"
     ]
    },
    {
     "data": {
      "text/plain": [
       "<function TextIOWrapper.close()>"
      ]
     },
     "execution_count": 2,
     "metadata": {},
     "output_type": "execute_result"
    }
   ],
   "source": [
    "#Criamos o arquivo na pasta temp, com o nome arquivo.txt\n",
    "novo_arquivo = open('c:\\\\temp\\\\arquivo.txt', \"w\")\n",
    "print(novo_arquivo)\n",
    "novo_arquivo.close"
   ]
  },
  {
   "cell_type": "code",
   "execution_count": 5,
   "metadata": {},
   "outputs": [
    {
     "ename": "FileNotFoundError",
     "evalue": "[Errno 2] No such file or directory: 'c\\\\temp\\\\arquivo.txt'",
     "output_type": "error",
     "traceback": [
      "\u001b[1;31m---------------------------------------------------------------------------\u001b[0m",
      "\u001b[1;31mFileNotFoundError\u001b[0m                         Traceback (most recent call last)",
      "\u001b[1;32m<ipython-input-5-cb226c061022>\u001b[0m in \u001b[0;36m<module>\u001b[1;34m()\u001b[0m\n\u001b[0;32m      1\u001b[0m \u001b[1;31m#ler o arquivo (vazio) na pasta temp\u001b[0m\u001b[1;33m\u001b[0m\u001b[1;33m\u001b[0m\u001b[0m\n\u001b[0;32m      2\u001b[0m \u001b[1;33m\u001b[0m\u001b[0m\n\u001b[1;32m----> 3\u001b[1;33m \u001b[0mler_arquivo\u001b[0m \u001b[1;33m=\u001b[0m \u001b[0mopen\u001b[0m\u001b[1;33m(\u001b[0m\u001b[1;34m'c\\\\temp\\\\arquivo.txt'\u001b[0m\u001b[1;33m,\u001b[0m\u001b[1;34m\"r\"\u001b[0m\u001b[1;33m)\u001b[0m\u001b[1;33m\u001b[0m\u001b[0m\n\u001b[0m\u001b[0;32m      4\u001b[0m \u001b[0mconteudo\u001b[0m \u001b[1;33m=\u001b[0m \u001b[0mler_arquivo\u001b[0m\u001b[1;33m.\u001b[0m\u001b[0mread\u001b[0m\u001b[1;33m(\u001b[0m\u001b[1;33m)\u001b[0m\u001b[1;33m\u001b[0m\u001b[0m\n\u001b[0;32m      5\u001b[0m \u001b[0mprint\u001b[0m\u001b[1;33m(\u001b[0m\u001b[0mconteudo\u001b[0m\u001b[1;33m)\u001b[0m\u001b[1;33m\u001b[0m\u001b[0m\n",
      "\u001b[1;31mFileNotFoundError\u001b[0m: [Errno 2] No such file or directory: 'c\\\\temp\\\\arquivo.txt'"
     ]
    }
   ],
   "source": [
    "#ler o arquivo (vazio) na pasta temp\n",
    "\n",
    "ler_arquivo = open('c\\\\temp\\\\arquivo.txt',\"r\")\n",
    "conteudo = ler_arquivo.read()\n",
    "print(conteudo)\n",
    "ler_arquivo.close()"
   ]
  },
  {
   "cell_type": "code",
   "execution_count": 2,
   "metadata": {},
   "outputs": [
    {
     "ename": "FileNotFoundError",
     "evalue": "[Errno 2] No such file or directory: 'c\\\\temp\\\\arquivo.txt'",
     "output_type": "error",
     "traceback": [
      "\u001b[1;31m---------------------------------------------------------------------------\u001b[0m",
      "\u001b[1;31mFileNotFoundError\u001b[0m                         Traceback (most recent call last)",
      "\u001b[1;32m<ipython-input-2-32c0b82bd409>\u001b[0m in \u001b[0;36m<module>\u001b[1;34m()\u001b[0m\n\u001b[0;32m      1\u001b[0m \u001b[1;31m#ler o arquivo (com conteudo do notepad) na pasta temp\u001b[0m\u001b[1;33m\u001b[0m\u001b[1;33m\u001b[0m\u001b[0m\n\u001b[0;32m      2\u001b[0m \u001b[1;33m\u001b[0m\u001b[0m\n\u001b[1;32m----> 3\u001b[1;33m \u001b[0mler_arquivo\u001b[0m \u001b[1;33m=\u001b[0m \u001b[0mopen\u001b[0m\u001b[1;33m(\u001b[0m\u001b[1;34m'c\\\\temp\\\\arquivo.txt'\u001b[0m\u001b[1;33m,\u001b[0m\u001b[1;34m\"r\"\u001b[0m\u001b[1;33m)\u001b[0m\u001b[1;33m\u001b[0m\u001b[0m\n\u001b[0m\u001b[0;32m      4\u001b[0m \u001b[0mconteudo\u001b[0m \u001b[1;33m=\u001b[0m \u001b[0mler_arquivo\u001b[0m\u001b[1;33m.\u001b[0m\u001b[0mread\u001b[0m\u001b[1;33m(\u001b[0m\u001b[1;33m)\u001b[0m\u001b[1;33m\u001b[0m\u001b[0m\n\u001b[0;32m      5\u001b[0m \u001b[0mprint\u001b[0m\u001b[1;33m(\u001b[0m\u001b[0mconteudo\u001b[0m\u001b[1;33m)\u001b[0m\u001b[1;33m\u001b[0m\u001b[0m\n",
      "\u001b[1;31mFileNotFoundError\u001b[0m: [Errno 2] No such file or directory: 'c\\\\temp\\\\arquivo.txt'"
     ]
    }
   ],
   "source": [
    "#ler o arquivo (com conteudo do notepad) na pasta temp\n",
    "\n",
    "ler_arquivo = open('c\\\\temp\\\\arquivo.txt',\"r\")\n",
    "conteudo = ler_arquivo.read()\n",
    "print(conteudo)"
   ]
  },
  {
   "cell_type": "code",
   "execution_count": 8,
   "metadata": {
    "scrolled": false
   },
   "outputs": [],
   "source": [
    "#help ('str')\n",
    "#dir(ler_arquivo)\n",
    "#dir(5)\n",
    "#dir(5.3)\n",
    "#dir(true)"
   ]
  },
  {
   "cell_type": "code",
   "execution_count": 9,
   "metadata": {},
   "outputs": [
    {
     "name": "stdout",
     "output_type": "stream",
     "text": [
      "Nos somos José e João e também Antonio\n"
     ]
    }
   ],
   "source": [
    "#pela posição\n",
    "print('Nos somos {} e {} e também {}'.format('José', 'João', 'Antonio'))\n"
   ]
  },
  {
   "cell_type": "code",
   "execution_count": 15,
   "metadata": {},
   "outputs": [
    {
     "name": "stdout",
     "output_type": "stream",
     "text": [
      "Nos somos Bruno e Henrique e também Leonardo\n"
     ]
    }
   ],
   "source": [
    "#pela posição\n",
    "nome = 'Bruno'\n",
    "outro_nome = 'Leonardo'\n",
    "mais_um_nome = 'Henrique'\n",
    "\n",
    "print('Nos somos {} e {} e também {}'.format(nome, mais_um_nome, outro_nome))"
   ]
  },
  {
   "cell_type": "code",
   "execution_count": 20,
   "metadata": {},
   "outputs": [
    {
     "name": "stdout",
     "output_type": "stream",
     "text": [
      "Ana José Bruno\n",
      "abracadabra\n"
     ]
    }
   ],
   "source": [
    "#pela ordem identificada\n",
    "nome0 = \"Bruno\"\n",
    "nome1 = \"José\"\n",
    "nome2 = \"Ana\"\n",
    "nome3 = \"Leonardo\"\n",
    "nome4 = \"Paula\"\n",
    "print('{2} {1} {0}'.format(nome0,nome1, nome2, nome3, nome4))\n",
    "\n",
    "print('{0}{1}{0}'.format('abra', 'cad'))"
   ]
  },
  {
   "cell_type": "code",
   "execution_count": 16,
   "metadata": {},
   "outputs": [
    {
     "name": "stdout",
     "output_type": "stream",
     "text": [
      "Antonio João José\n",
      "abracadabra\n"
     ]
    }
   ],
   "source": [
    "#pelo indexador\n",
    "print('{2} {1} {0}'.format('José', 'João', 'Antonio'))\n",
    "\n",
    "print('{0}{1}{0}'.format('abra', 'cad'))"
   ]
  },
  {
   "cell_type": "code",
   "execution_count": 23,
   "metadata": {},
   "outputs": [
    {
     "name": "stdout",
     "output_type": "stream",
     "text": [
      "O seu nome é João, sua idade é 14 sua profissao é Programador\n"
     ]
    }
   ],
   "source": [
    "#por um nome definido\n",
    "print('O seu nome é {nome}, sua idade é {idade} sua profissao é {profissao}'.format(idade=14,\n",
    "                                                                nome='João',\n",
    "                                                                profissao='Programador'))"
   ]
  },
  {
   "cell_type": "code",
   "execution_count": 24,
   "metadata": {},
   "outputs": [
    {
     "name": "stdout",
     "output_type": "stream",
     "text": [
      "alinhado à esquerda           \n",
      "            alinhado à direita\n",
      "         centralizado         \n",
      "**********************************centralizado usando * pra fechar**********************************\n"
     ]
    }
   ],
   "source": [
    "#formatando alinhamento da string\n",
    "print('{:<30}'.format('alinhado à esquerda'))\n",
    "print('{:>30}'.format('alinhado à direita'))\n",
    "print('{:^30}'.format('centralizado'))\n",
    "print('{:*^100}'.format('centralizado usando * pra fechar'))"
   ]
  },
  {
   "cell_type": "code",
   "execution_count": 57,
   "metadata": {},
   "outputs": [
    {
     "name": "stdout",
     "output_type": "stream",
     "text": [
      "Python é legal                                                                  \n",
      "                                                                  Python é legal\n",
      "                                 Python é legal                                 \n",
      "xxxxxxxxxxxxxxxxxxxxxxxxxxPython é legal para carvalhoxxxxxxxxxxxxxxxxxxxxxxxxxx\n"
     ]
    }
   ],
   "source": [
    "#formatando string por possicionamento\n",
    "print('{:<80}'.format(\"Python é legal\"))\n",
    "print('{:>80}'.format(\"Python é legal\"))\n",
    "print('{:^80}'.format(\"Python é legal\"))\n",
    "print('{:x^80}'.format(\"Python é legal para carvalho\"))"
   ]
  },
  {
   "cell_type": "code",
   "execution_count": 69,
   "metadata": {},
   "outputs": [
    {
     "name": "stdout",
     "output_type": "stream",
     "text": [
      "Inteiro: 11;  Hexadecimal: b;  Octal: 13;  Binário: 1011\n",
      "Inteiro: 1234\n",
      "Hexadecimal: 4d2\n",
      "Octal: 2322\n",
      "Binário: 11111111\n"
     ]
    }
   ],
   "source": [
    "#mostrando em bases diferentes\n",
    "print(\"Inteiro: {0:d};  Hexadecimal: {0:x};  Octal: {0:o};  Binário: {0:b}\".format(11))\n",
    "print(\"Inteiro: {0:d}\".format(1234))\n",
    "print(\"Hexadecimal: {0:x}\".format(1234))\n",
    "print(\"Octal: {0:o}\".format(1234))\n",
    "print(\"Binário: {0:b}\".format(255))"
   ]
  },
  {
   "cell_type": "code",
   "execution_count": 86,
   "metadata": {},
   "outputs": [
    {
     "name": "stdout",
     "output_type": "stream",
     "text": [
      "Inteiro: 1.23457\n",
      "Inteiro: 1.2346\n",
      "Inteiro: 123.457%\n"
     ]
    }
   ],
   "source": [
    "#formatando saídas decimais (p/float)\n",
    "#5 caracteres depois da vírgula\n",
    "print(\"Inteiro: {0:.5f}\".format(1.23456789))\n",
    "\n",
    "#5 caracteres depois no total\n",
    "print(\"Inteiro: {0:.5}\".format(1.23456789))\n",
    "\n",
    "#3 caracteres depois da vígula%\n",
    "print(\"Inteiro: {0:.3%}\".format(1.23456789))"
   ]
  },
  {
   "cell_type": "code",
   "execution_count": 93,
   "metadata": {},
   "outputs": [
    {
     "name": "stdout",
     "output_type": "stream",
     "text": [
      "João Cabral De Melo Neto\n",
      "joão cabral de melo neto\n",
      "JOÃO CABRAL DE MELO NETO\n"
     ]
    }
   ],
   "source": [
    "#deixa a primeira letra de cada palavra em letra maiúscula\n",
    "texto = \"joão cabral de melo neto\"\n",
    "print(texto.title())\n",
    "\n",
    "#tudo para minúscula\n",
    "print(texto.lower())\n",
    "\n",
    "#tudo para maiúscula\n",
    "print(texto.upper())"
   ]
  },
  {
   "cell_type": "code",
   "execution_count": 94,
   "metadata": {},
   "outputs": [
    {
     "name": "stdout",
     "output_type": "stream",
     "text": [
      "é igual\n"
     ]
    }
   ],
   "source": [
    "nome1 = \"João da Silva\"\n",
    "nome2 = \"JOÃO DA SILVA\"\n",
    "\n",
    "if(nome1.lower() == nome2.lower()):\n",
    "    print('é igual')\n",
    "else:\n",
    "    prin('é diferente')"
   ]
  },
  {
   "cell_type": "code",
   "execution_count": 99,
   "metadata": {},
   "outputs": [
    {
     "name": "stdout",
     "output_type": "stream",
     "text": [
      "6\n"
     ]
    }
   ],
   "source": [
    "texto = \"12345678912321421341234123423\"\n",
    "print (texto.count('1'))"
   ]
  },
  {
   "cell_type": "code",
   "execution_count": null,
   "metadata": {},
   "outputs": [],
   "source": [
    "#formato\n",
    "texto = 'Meu Texto'.upper()\n",
    "texto = 'Meu Texto'.lower()\n",
    "texto = 'Meu Texto'.capitalize()\n",
    "\n",
    "#contar\n",
    "texto = 'Meu Texto'.count('t')\n",
    "texto = 'Meu Texto'.lower().count('t')\n",
    "\n",
    "#identificar\n",
    "texto = 'Meu Texto'.endswith('o')\n",
    "texto = 'Meu Texto'.startswith('M')\n",
    "\n",
    "#procurar e alterar\n",
    "index = 'Meu Texto'.find('A')\n",
    "index = 'Meu Texto'.index('T')\n",
    "print('Vamos trocar alguma coisa'.replace('o', '0'))\n",
    "texto = 'Meu Texto'.split()\n",
    "\n",
    "#verificar\n",
    "print('minha string'.isalpha())\n",
    "print('1.0'.isdigit())\n",
    "print('12'.isnumeric())\n",
    "\n",
    "#slice notation (criação de substrings)\n",
    "texto = 'Meu Texto'[index:index + 4]"
   ]
  },
  {
   "cell_type": "code",
   "execution_count": 103,
   "metadata": {},
   "outputs": [
    {
     "name": "stdout",
     "output_type": "stream",
     "text": [
      "11\n"
     ]
    }
   ],
   "source": [
    "#contar quantas vezes a string aparece dentro da string base\n",
    "arquivo = open(\"c:\\\\temp\\\\sample.txt\")\n",
    "string_base = arquivo.read()\n",
    "string_procurada = 'VAI'\n",
    "print(string_base.lower().count(string_procurada.lower()))"
   ]
  },
  {
   "cell_type": "code",
   "execution_count": 105,
   "metadata": {},
   "outputs": [
    {
     "name": "stdout",
     "output_type": "stream",
     "text": [
      "o tamanho é  10\n",
      "o tamanho é  10\n"
     ]
    }
   ],
   "source": [
    "print(\"o tamanho é \", + len(\"0123456789\"))\n",
    "print(\"o tamanho é \",  len(\"0123456789\"))"
   ]
  },
  {
   "cell_type": "code",
   "execution_count": 109,
   "metadata": {},
   "outputs": [
    {
     "name": "stdout",
     "output_type": "stream",
     "text": [
      "não termina com j\n",
      "não começa com j\n"
     ]
    }
   ],
   "source": [
    "#identificar inicio e fim de string\n",
    "aluno = 'João da Silva'\n",
    "\n",
    "if (aluno.endswith('A')):\n",
    "    print ('termina com j')\n",
    "else:\n",
    "    print('não termina com j')\n",
    "\n",
    "if (aluno.startswith('A')):\n",
    "    print ('começa com j')\n",
    "else:\n",
    "    print('não começa com j')\n",
    "\n",
    "\n",
    "texto = 'Meu Texto'.startswith('M')\n"
   ]
  },
  {
   "cell_type": "code",
   "execution_count": 111,
   "metadata": {},
   "outputs": [
    {
     "name": "stdout",
     "output_type": "stream",
     "text": [
      "7\n"
     ]
    }
   ],
   "source": [
    "#procurar e alterar\n",
    "index = 'Meu texto'.find('to')\n",
    "print(index)"
   ]
  },
  {
   "cell_type": "code",
   "execution_count": 113,
   "metadata": {},
   "outputs": [
    {
     "name": "stdout",
     "output_type": "stream",
     "text": [
      "7\n",
      "Meu tex\n"
     ]
    }
   ],
   "source": [
    "#procurar e alterar\n",
    "index = 'Meu texto é muito mais longo do que isso'.find('to')\n",
    "print(index)\n",
    "meu_texto = 'Meu texto'[0:index]\n",
    "print(meu_texto)"
   ]
  },
  {
   "cell_type": "code",
   "execution_count": 116,
   "metadata": {},
   "outputs": [
    {
     "name": "stdout",
     "output_type": "stream",
     "text": [
      "7\n",
      "Meu tex\n"
     ]
    }
   ],
   "source": [
    "#procurar e alterar\n",
    "conteudo = 'Meu texto é muito mais longo do que isso'\n",
    "index = conteudo.find('to')\n",
    "print(index)\n",
    "#para criar uma string com parte de outra, posição incial e quantos caracteres\n",
    "meu_texto = conteudo[0:index]\n",
    "print(meu_texto)"
   ]
  },
  {
   "cell_type": "code",
   "execution_count": 120,
   "metadata": {},
   "outputs": [
    {
     "name": "stdout",
     "output_type": "stream",
     "text": [
      "23\n",
      "23\n",
      "Meu texto é muito mais \n"
     ]
    }
   ],
   "source": [
    "#procurar e alterar\n",
    "conteudo = 'Meu texto é muito mais -10 longo do que isso'\n",
    "find = conteudo.find('-10')\n",
    "print(find)\n",
    "index = conteudo.index('-10')\n",
    "print(index)\n",
    "#para criar uma string com parte de outra, posição incial e quantos caracteres\n",
    "meu_texto = conteudo[0:index]\n",
    "print(meu_texto)"
   ]
  },
  {
   "cell_type": "code",
   "execution_count": 122,
   "metadata": {},
   "outputs": [
    {
     "name": "stdout",
     "output_type": "stream",
     "text": [
      "Meu abacaxi de replace abacaxi teste teste\n"
     ]
    }
   ],
   "source": [
    "#substituir um conteudo dentro de uma string\n",
    "texto  = 'Meu teste de replace teste teste teste'\n",
    "print(texto.replace('teste','abacaxi', 2))"
   ]
  },
  {
   "cell_type": "code",
   "execution_count": 128,
   "metadata": {},
   "outputs": [
    {
     "name": "stdout",
     "output_type": "stream",
     "text": [
      "['Joao,', 'Jose,', 'Paulo']\n",
      "['Joao', ' Jose', ' Paulo']\n"
     ]
    }
   ],
   "source": [
    "#quebra a string em pedaços\n",
    "texto = \"Joao, Jose, Paulo\"\n",
    "# a quebra acontece por default no espaço\n",
    "print(texto.split())\n",
    "# podemos indicar o caracter pra fazer a quebra\n",
    "print(texto.strip().split(\",\"))"
   ]
  },
  {
   "cell_type": "code",
   "execution_count": 134,
   "metadata": {},
   "outputs": [
    {
     "name": "stdout",
     "output_type": "stream",
     "text": [
      "['10', ' Motor', ' 150.00', ' 10/10/2010']\n",
      "10 é um número:  True\n",
      "False\n",
      "True\n"
     ]
    }
   ],
   "source": [
    "linha_importada = \"10, Motor, 150.00, 10/10/2010\"\n",
    "lista = linha_importada.split(',')\n",
    "print(lista)\n",
    "#verificar o que tem na string\n",
    "print(lista[0], \"é um número: \", lista[0].isdigit())\n",
    "\n",
    "if (lista[2].isdigit()):\n",
    "    lista[2] = float(lista[2].strip())*0.09\n",
    "    print(lista[2])\n",
    "    \n",
    "print('a'.isnumeric())\n",
    "print('10'.isnumeric())"
   ]
  },
  {
   "cell_type": "code",
   "execution_count": null,
   "metadata": {},
   "outputs": [],
   "source": [
    "#contar quantas vezes aparece no arquivo a letra M\n",
    "#abrir arquivo\n",
    "arquivo = open (\"lorem.txt\")\n",
    "#Ler o arquivo\n",
    "conteudo = arquivo.read()\n",
    "#contar quantas vezes aparece a letra M\n",
    "quantidade = conteudo.count(\"M\")\n",
    "\n",
    "print(\"A letra M aparece {} vezes no arquivo\".format(quantidade))"
   ]
  }
 ],
 "metadata": {
  "kernelspec": {
   "display_name": "Python 3",
   "language": "python",
   "name": "python3"
  },
  "language_info": {
   "codemirror_mode": {
    "name": "ipython",
    "version": 3
   },
   "file_extension": ".py",
   "mimetype": "text/x-python",
   "name": "python",
   "nbconvert_exporter": "python",
   "pygments_lexer": "ipython3",
   "version": "3.6.5"
  }
 },
 "nbformat": 4,
 "nbformat_minor": 2
}
