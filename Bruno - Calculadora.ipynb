{
 "cells": [
  {
   "cell_type": "code",
   "execution_count": 30,
   "metadata": {},
   "outputs": [],
   "source": [
    "#Criar uma calculadora 4 operações + - * /\n",
    "#utilizar uma função para chamar outras funções (dinamicamente, função por parâmetro)\n",
    "\n",
    "def somar (numero1, numero2):\n",
    "    return numero1 + numero2\n",
    "\n",
    "def subtrair (numero1, numero2):\n",
    "    return numero1 - numero2\n",
    "\n",
    "def multiplicar (numero1, numero2):\n",
    "    return numero1 * numero2\n",
    "\n",
    "def dividir (numero1, numero2):\n",
    "    return numero1 / numero2\n",
    "\n",
    "#função por parâmetro  \n",
    "def calcula (operacao,numero1,numero2):\n",
    "    return operacao(numero1,numero2)"
   ]
  },
  {
   "cell_type": "code",
   "execution_count": 39,
   "metadata": {
    "scrolled": true
   },
   "outputs": [
    {
     "name": "stdout",
     "output_type": "stream",
     "text": [
      "Digite um número 20\n",
      "Digite a operação 1\n",
      "Digite um número 2\n",
      "18.0\n"
     ]
    }
   ],
   "source": [
    "try:\n",
    "    numero1 = float (input ('Digite um número '))\n",
    "    op = input('Digite a operação ')\n",
    "    numero2 = float (input ('Digite um número '))\n",
    "    if (op != None):\n",
    "        if (op=='+'):\n",
    "            operacao= somar\n",
    "        if (op=='-'):\n",
    "            operacao= subtrair\n",
    "        if (op=='*'):\n",
    "            operacao= multiplicar\n",
    "        if (op=='/'):\n",
    "            operacao = dividir\n",
    "    print(calcula(operacao,numero1,numero2)) \n",
    "    del op\n",
    "except ValueError:\n",
    "    print('O número digitado não pode ser calculado, por favor digite apenas números')   \n",
    "except ZeroDivisionError:\n",
    "    print ('Não é possível efetuar uma divisão por zero, por favor tente novamente')\n",
    "except TypeError:\n",
    "    print('A informação digitada não pode ser calculada, por favor digite apenas números')\n",
    "    raise\n",
    "except:\n",
    "    print('Ocoreu um erro, tente novamente')\n",
    "    raise"
   ]
  },
  {
   "cell_type": "code",
   "execution_count": null,
   "metadata": {},
   "outputs": [],
   "source": [
    "else:\n",
    "    print (\"Só executa de deu erro\")\n",
    "finally:\n",
    "    print (\"Operação realizada com sucesso!\")"
   ]
  }
 ],
 "metadata": {
  "kernelspec": {
   "display_name": "Python 3",
   "language": "python",
   "name": "python3"
  },
  "language_info": {
   "codemirror_mode": {
    "name": "ipython",
    "version": 3
   },
   "file_extension": ".py",
   "mimetype": "text/x-python",
   "name": "python",
   "nbconvert_exporter": "python",
   "pygments_lexer": "ipython3",
   "version": "3.6.5"
  }
 },
 "nbformat": 4,
 "nbformat_minor": 2
}
