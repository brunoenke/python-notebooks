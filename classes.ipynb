{
 "cells": [
  {
   "cell_type": "code",
   "execution_count": 28,
   "metadata": {},
   "outputs": [],
   "source": [
    "class Automovel:\n",
    "    #construtor -serve para criar uma instância da classe\n",
    "    def __init__(self, marcha, embreagem, pneus):\n",
    "        self.marcha = marcha\n",
    "        self.embreagem = embreagem\n",
    "        self.pneus = pneus\n",
    "        \n",
    "    def ligar(self):\n",
    "        #pegamos a posição\n",
    "        posicao = self.verificarPosicao()\n",
    "        if posicao > 0:\n",
    "            self.embreagem.pressionar()\n",
    "        print('O carro está ligado')\n",
    "            \n",
    "    def aumentarMarcha(self):\n",
    "        posicao = self.verificarPosicao()\n",
    "        if posicao < 5:\n",
    "            self.embreagem.pressionar()\n",
    "            novaMarcha = posicao + 1\n",
    "            self.marcha.posicionar(novaMarcha)\n",
    "                \n",
    "    def reduzirMarcha(self):\n",
    "        posicao = self.verificarPosicao()\n",
    "        if posicao > -1:\n",
    "            self.embreagem.pressionar()\n",
    "            novaMarcha = posicao - 1\n",
    "            self.marcha.posicionar(novaMarcha)\n",
    "            print('O automóvel está em marcha ré')\n",
    "        else:\n",
    "            print('O automóvel está na marcha N')\n",
    "            \n",
    "    def "
   ]
  },
  {
   "cell_type": "code",
   "execution_count": 32,
   "metadata": {},
   "outputs": [
    {
     "ename": "SyntaxError",
     "evalue": "invalid syntax (<ipython-input-32-8c4b4da17664>, line 6)",
     "output_type": "error",
     "traceback": [
      "\u001b[1;36m  File \u001b[1;32m\"<ipython-input-32-8c4b4da17664>\"\u001b[1;36m, line \u001b[1;32m6\u001b[0m\n\u001b[1;33m    meuCarro = Automovel(__cambio, __embreagem, __pneus)\u001b[0m\n\u001b[1;37m           ^\u001b[0m\n\u001b[1;31mSyntaxError\u001b[0m\u001b[1;31m:\u001b[0m invalid syntax\n"
     ]
    }
   ],
   "source": [
    "__cambio  = Cambio(posicao = 0)\n",
    "__embreagem  = Embreagem(pressionado=False)\n",
    "__pneus = list()\n",
    "for i in rage(5):\n",
    "    __pneus.append((Pneu (30,True))\n",
    "meuCarro = Automovel(__cambio, __embreagem, __pneus)\n",
    "\n",
    "for pneu in meuCarro.pneus:\n",
    "    pneu.calibrar(30)"
   ]
  },
  {
   "cell_type": "code",
   "execution_count": 23,
   "metadata": {},
   "outputs": [],
   "source": [
    "class Cambio:\n",
    "    def __init__(self, posicao):\n",
    "        self.posicao = posicao\n",
    "    \n",
    "    def posicionar(self, novaPosicao):\n",
    "        self.posicao = novaPosicao\n",
    "        \n",
    "    def verificarPosicao(self):\n",
    "        return self.posicao"
   ]
  },
  {
   "cell_type": "code",
   "execution_count": 24,
   "metadata": {},
   "outputs": [],
   "source": [
    "class Embreagem:\n",
    "    def __init__(self, pressionado):\n",
    "        self.pressionado = pressionado\n",
    "        \n",
    "    def pressionar(self):\n",
    "        embreagem.pressionado = True\n",
    "        \n",
    "    def soltar(self):\n",
    "        embreagem.pressionado = False\n",
    "        \n",
    "    def estaPressionado(self):\n",
    "        return self.pressionado"
   ]
  },
  {
   "cell_type": "code",
   "execution_count": 25,
   "metadata": {},
   "outputs": [],
   "source": [
    "class Pneu:\n",
    "    def __init__(self, pressao, balanceado):\n",
    "        self.pressao = pressao\n",
    "        self.balanceado = balanceado\n",
    "        \n",
    "    def calibrar(self,novaPressao):\n",
    "        self.pressao = novaPressao\n",
    "        \n",
    "    def estaBalanceado(self):\n",
    "        return self.balanceado\n",
    "    \n",
    "    def balacear(self):\n",
    "        self.balanceado = True"
   ]
  },
  {
   "cell_type": "code",
   "execution_count": 30,
   "metadata": {},
   "outputs": [
    {
     "ename": "SyntaxError",
     "evalue": "invalid syntax (<ipython-input-30-a193fc48ccd6>, line 6)",
     "output_type": "error",
     "traceback": [
      "\u001b[1;36m  File \u001b[1;32m\"<ipython-input-30-a193fc48ccd6>\"\u001b[1;36m, line \u001b[1;32m6\u001b[0m\n\u001b[1;33m    meuCarro = Automovel(__cambio, __embreagem, __pneus)\u001b[0m\n\u001b[1;37m           ^\u001b[0m\n\u001b[1;31mSyntaxError\u001b[0m\u001b[1;31m:\u001b[0m invalid syntax\n"
     ]
    }
   ],
   "source": [
    "__cambio  = Cambio(posicao = 0)\n",
    "__embreagem  = Embreagem(pressionado=False)\n",
    "__pneus = list()\n",
    "for i in rage(5):\n",
    "    __pneus.append((Pneu (30,True))\n",
    "meuCarro = Automovel(__cambio, __embreagem, __pneus)\n",
    "\n",
    "for pneu in meuCarro.pneus:\n",
    "    pneu.calibrar(30)"
   ]
  }
 ],
 "metadata": {
  "kernelspec": {
   "display_name": "Python 3",
   "language": "python",
   "name": "python3"
  },
  "language_info": {
   "codemirror_mode": {
    "name": "ipython",
    "version": 3
   },
   "file_extension": ".py",
   "mimetype": "text/x-python",
   "name": "python",
   "nbconvert_exporter": "python",
   "pygments_lexer": "ipython3",
   "version": "3.6.5"
  }
 },
 "nbformat": 4,
 "nbformat_minor": 2
}
