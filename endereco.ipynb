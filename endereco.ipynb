{
 "cells": [
  {
   "cell_type": "code",
   "execution_count": null,
   "metadata": {},
   "outputs": [],
   "source": [
    "class endereco:\n",
    "    #construtor -serve para criar uma instância da classe\n",
    "    def __init__(self, cep):\n",
    "        self.__cep = (cep)\n",
    "        \n",
    "        \n",
    "    def setRua(self,novaRua):\n",
    "        self.__rua = novaRua\n",
    "    def getRua(self):\n",
    "        return self.__rua\n",
    "    def setNumero(self,novoNumero):\n",
    "        self.__numero = novoNumero\n",
    "    def getNumero(self):\n",
    "        return self.__numero\n",
    "    def setCep(self,novoCep):\n",
    "        self.__cep = novoCep\n",
    "    def getCep(self):\n",
    "        return self.__cep\n",
    "    def setCidade(self,novaCidade):\n",
    "        self.__cidade = novaCidade\n",
    "    def getCidade(self):\n",
    "        return self.__cidade\n",
    "    def setEstado(self,novoEstado):\n",
    "        self.__estado = novoEstado\n",
    "    def getEstado(self): return self.__estado\n",
    "    \n",
    "    \n",
    "    def endereco:\n",
    "        pass\n",
    "    def carregar:\n",
    "        pass\n",
    "        "
   ]
  }
 ],
 "metadata": {
  "kernelspec": {
   "display_name": "Python 3",
   "language": "python",
   "name": "python3"
  },
  "language_info": {
   "codemirror_mode": {
    "name": "ipython",
    "version": 3
   },
   "file_extension": ".py",
   "mimetype": "text/x-python",
   "name": "python",
   "nbconvert_exporter": "python",
   "pygments_lexer": "ipython3",
   "version": "3.6.5"
  }
 },
 "nbformat": 4,
 "nbformat_minor": 2
}
