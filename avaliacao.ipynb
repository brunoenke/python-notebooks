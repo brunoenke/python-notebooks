{
 "cells": [
  {
   "cell_type": "markdown",
   "metadata": {},
   "source": [
    "# Revisão Capítulo 01 - Fundamentos de Programação "
   ]
  },
  {
   "cell_type": "markdown",
   "metadata": {},
   "source": [
    "## 01 Ambientes de Desenvolvimento e Linguagens de Programação\n",
    "<ul><li>Paradigmas de Programação<li>Linguagens de Programação<li>Porque linguagens diferentes importam?<li>Diferenças entre linguagens compiladas e linguagens interpretadas.<li>Diferença entre linguagem fortemente tipada e fracamente tipada<li>Integrated Development Environment - IDE<li>Gerenciador de pacotes"
   ]
  },
  {
   "cell_type": "markdown",
   "metadata": {},
   "source": [
    "## 02 e 03 Estruturas Fundamentais\n",
    "<li>Operações matemáticas básicas (Adicão, subtração, divisão, multiplicação, exponenciação, radiciação>\n",
    "<li>Tipos simples <ul><li>Inteiro - int<li>Decimal - float<li>String - str</ul>\n",
    "<li>Estruturas de controle <b>IF ELSE</b>\n",
    "<li>Revisão de operações booleanas\n",
    "<li>Estruturas de repetição <b>WHILE</b>\n",
    "<li>Caracteres especiais\n",
    "<ul><li>Escape **\\\\**<li>Quebra de linha **\\\\n**<li>Tabulação **\\\\t**</ul>\n",
    "<li>Leitura de entrada do usuário\n",
    "<li>Leitura e manipulação de arquivos\n",
    "<li>Funções com e sem parâmetros"
   ]
  },
  {
   "cell_type": "markdown",
   "metadata": {},
   "source": [
    "## 04 Tratamento de Exceções\n",
    "<li>Blocos de tratamento de exceções - TRY EXCEPT ELSE FINALLY\n",
    "<li>Disparo de exceções - RAISE\n",
    "<li>Controle e testes internos - ASSERT\n",
    "<li>Criação de exceções customizadas "
   ]
  },
  {
   "cell_type": "markdown",
   "metadata": {},
   "source": [
    "## 05 Manipulação de Arquivos\n",
    "<li>Leitura de arquivos\n",
    "<li>Gravação de arquivos\n",
    "<li>Indexação e análise de conteúdo\n",
    "<li>Formatadores de Strings\n"
   ]
  },
  {
   "cell_type": "markdown",
   "metadata": {},
   "source": [
    "# Exercícios"
   ]
  },
  {
   "cell_type": "markdown",
   "metadata": {},
   "source": [
    "1 - Escreva um algoritmo para criar um arquivo com nome <b>FundamentosDeProgramacao.txt</b> no diretório <b>C:\\\\TEMP\\\\EXERCICIOS\\\\PYTHON\\\\AULA08</b>"
   ]
  },
  {
   "cell_type": "code",
   "execution_count": null,
   "metadata": {
    "collapsed": true
   },
   "outputs": [],
   "source": []
  },
  {
   "cell_type": "markdown",
   "metadata": {},
   "source": [
    "2 - Escreva um algoritmo para resolver a seguinte equação (305 mais 201 dividido por 3 ao cubo) e imprimir o resultado na tela mostrando apenas duas casas decimais."
   ]
  },
  {
   "cell_type": "code",
   "execution_count": null,
   "metadata": {
    "collapsed": true
   },
   "outputs": [],
   "source": []
  },
  {
   "cell_type": "markdown",
   "metadata": {},
   "source": [
    "3 - Escreva um algoritmo para imprimir o resultado da raiz quadrada de 1420 com 4 casas decimais."
   ]
  },
  {
   "cell_type": "code",
   "execution_count": null,
   "metadata": {},
   "outputs": [],
   "source": []
  },
  {
   "cell_type": "markdown",
   "metadata": {},
   "source": [
    "4 - Escreva 10 vezes na tela a frase \"Python é \"\"muito\"\" legal!\", sem usar estruturas de repetição."
   ]
  },
  {
   "cell_type": "code",
   "execution_count": null,
   "metadata": {
    "collapsed": true
   },
   "outputs": [],
   "source": []
  },
  {
   "cell_type": "markdown",
   "metadata": {},
   "source": [
    "5 - Peça para o usuário digitar um número e imprima-o na tela, na frase **\"Você digitou o número XX\"**, onde **XX** é o número digitado. Se o usuário não digitar um número, informe uma mensagem de erro e peça novamente para que ele digite um número. O programa só deve fechar quando o usuário tiver digitado um número."
   ]
  },
  {
   "cell_type": "code",
   "execution_count": null,
   "metadata": {
    "collapsed": true
   },
   "outputs": [],
   "source": []
  },
  {
   "cell_type": "markdown",
   "metadata": {},
   "source": [
    "6 - Imprima o seu nome na tela 10 vezes, usando uma estrutura WHILE."
   ]
  },
  {
   "cell_type": "code",
   "execution_count": null,
   "metadata": {
    "collapsed": true
   },
   "outputs": [],
   "source": []
  },
  {
   "cell_type": "markdown",
   "metadata": {},
   "source": [
    "7 - Peça para o usuário entrar um nome e conte o seu número de letras. Imprima o nome uma vez para cada letra contada, alternando a saída com todas maiúsculas nas vezes pares, e minúsculas nas vezes ímpares."
   ]
  },
  {
   "cell_type": "code",
   "execution_count": null,
   "metadata": {
    "collapsed": true
   },
   "outputs": [],
   "source": []
  },
  {
   "cell_type": "markdown",
   "metadata": {},
   "source": [
    "8 - Crie uma string com 20 linhas. Em cada linha escreva a palavra **\"Python\"**. Antes da palavra python de cada linha insira tabulações, nesta seqüência: primeira linha - uma tabulação; segunda linha - duas tabulações; terceira linha - três tabulações; e assim por diante até na vigésima linha - vinte tabulações. No fim, conte o número de tabulações na string e imprima em outra linha **\"Essa string tem XX tabulações\"**, onde **XX** é o número de tabulações contadas.   "
   ]
  },
  {
   "cell_type": "code",
   "execution_count": null,
   "metadata": {
    "collapsed": true
   },
   "outputs": [],
   "source": []
  },
  {
   "cell_type": "markdown",
   "metadata": {},
   "source": [
    "9 - Crie uma função que recebe dois parâmetros e retorna a soma dos dois. Chame essa função passando os valores 10 e 20, e verifique se o resultado é 30. Se for, imprima na tela. Se não for, imprima uma mensagem de erro. "
   ]
  },
  {
   "cell_type": "code",
   "execution_count": null,
   "metadata": {
    "collapsed": true
   },
   "outputs": [],
   "source": []
  },
  {
   "cell_type": "markdown",
   "metadata": {},
   "source": [
    "10 - Crie uma função chamada **LeArquivo**, que recebe como parâmetro o caminho completo com o nome de um arquivo e devolve uma string com todo o seu conteúdo. Teste-a para ver se funciona, imprimindo na tela o conteúdo de um arquivo qualquer. "
   ]
  },
  {
   "cell_type": "code",
   "execution_count": null,
   "metadata": {
    "collapsed": true
   },
   "outputs": [],
   "source": []
  },
  {
   "cell_type": "markdown",
   "metadata": {},
   "source": [
    "11 - Tente abrir o arquivo \"C:\\\\WINDOWS\\\\NAO_EXISTE.TXT\". Trate o erro e mostre na tela apenas a mensagem \"Esse arquivo não existe\"."
   ]
  },
  {
   "cell_type": "code",
   "execution_count": null,
   "metadata": {
    "collapsed": true
   },
   "outputs": [],
   "source": []
  },
  {
   "cell_type": "markdown",
   "metadata": {},
   "source": [
    "12 - Peça para o usuário entrar sua idade. Se ele digitar qualquer idade abaixo de 18 anos, dispare uma exceção customizada com a mensagem \"Proibido venda para menores de 18 anos\"."
   ]
  },
  {
   "cell_type": "code",
   "execution_count": null,
   "metadata": {
    "collapsed": true
   },
   "outputs": [],
   "source": []
  },
  {
   "cell_type": "markdown",
   "metadata": {},
   "source": [
    "13 - Escreva um algoritmo para abrir um arquivo texto e identificar qual é a letra que mais aparece no arquivo."
   ]
  },
  {
   "cell_type": "code",
   "execution_count": null,
   "metadata": {},
   "outputs": [],
   "source": []
  },
  {
   "cell_type": "markdown",
   "metadata": {},
   "source": [
    "14 - Crie um arquivo texto com a tabuada de 1 a 10. Formate a saída na tela para os números ficarem alinhados, e os títulos da tabuada centralizados. "
   ]
  },
  {
   "cell_type": "code",
   "execution_count": null,
   "metadata": {
    "collapsed": true
   },
   "outputs": [],
   "source": []
  },
  {
   "cell_type": "markdown",
   "metadata": {},
   "source": [
    "15 - Exporte este notebook para um arquivo PDF usando o comando **!jupyter nbconvert --to PDF Revisao_capitulo_01.ipynb** . Se aparecer um erro, analise-o e instale o pacote que falta usando o comando conda."
   ]
  },
  {
   "cell_type": "code",
   "execution_count": null,
   "metadata": {},
   "outputs": [],
   "source": [
    "!jupyter nbconvert --to PDF Revisao_capitulo_01.ipynb"
   ]
  }
 ],
 "metadata": {
  "kernelspec": {
   "display_name": "Python 3",
   "language": "python",
   "name": "python3"
  },
  "language_info": {
   "codemirror_mode": {
    "name": "ipython",
    "version": 3
   },
   "file_extension": ".py",
   "mimetype": "text/x-python",
   "name": "python",
   "nbconvert_exporter": "python",
   "pygments_lexer": "ipython3",
   "version": "3.6.3"
  }
 },
 "nbformat": 4,
 "nbformat_minor": 2
}
