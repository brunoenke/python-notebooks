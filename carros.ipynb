{
 "cells": [
  {
   "cell_type": "code",
   "execution_count": 15,
   "metadata": {},
   "outputs": [],
   "source": [
    "class Pneu:\n",
    "    def __init__(self, pressao, balanceado):\n",
    "        self.setPressao = (pressao)\n",
    "        self.setBalanceado = (balanceado)\n",
    "                \n",
    "    def setPressao(self, novaPressao): self.__pressao = novaPressao\n",
    "    def getPressao(self): return self.__pressao\n",
    "    def getBalanceado(self): return self__.balanceado\n",
    "    def setBalanceado(self, balanceado): self__.balanceado = True"
   ]
  },
  {
   "cell_type": "code",
   "execution_count": 17,
   "metadata": {},
   "outputs": [],
   "source": [
    "class Cambio:\n",
    "    def __init__(self, posicao):\n",
    "        self.setPosicao = (posicao)\n",
    "    \n",
    "    def setPosicao(self, novaPosicao): self.__posicao = novaPosicao\n",
    "    def getPosicao(self): return self.__posicao"
   ]
  },
  {
   "cell_type": "code",
   "execution_count": 22,
   "metadata": {},
   "outputs": [],
   "source": [
    "class Embreagem:\n",
    "    def __init__(self, pressionado):\n",
    "        self.setPressionado = (pressionado)\n",
    "        \n",
    "    def setPressionado(self, novoPrecionado): self.__pressionado = novoPrecionado\n",
    "    def getPressionado(self): return self.__pressionado"
   ]
  },
  {
   "cell_type": "code",
   "execution_count": 25,
   "metadata": {},
   "outputs": [],
   "source": [
    "class Automovel:\n",
    "    #construtor -serve para criar uma instância da classe\n",
    "    def __init__(self, marcha, embreagem, pneus, kmRodado, nome):\n",
    "        self.setMarcha(marcha)\n",
    "        self.setEmbreagem(embreagem)\n",
    "        self.setPneus(pneus)\n",
    "        self.setkmRodadoint(self.carregar(\"C:\\\\temp\\\\meucarrosalvo.txt\"))\n",
    "        self.setNome(nome)\n",
    "\n",
    "    def setNome (self,novoNome): self.__nome = novoNome\n",
    "    def getNome(self): return self.__nome\n",
    "    \n",
    "    def setMarcha(self,novaMarcha): self.__marcha = novaMarcha\n",
    "    def getMarcha(self): return self.__marcha\n",
    "    def setEmbreagem(self,novaEmbreagem): self.__embreagem = novaEmbreagem\n",
    "    def getEmbreagem(self): return self.__embreagem\n",
    "    def setPneus(self,novosPneus): self.__pneus = novosPneus\n",
    "    def getPneus(self): return self.__pneus\n",
    "    def setkmRodado(self,novokmRodado): self.__kmRodado = novokmRodado\n",
    "    def getkmRodado(self): return self.__kmRodado\n",
    "        \n",
    "    def ligar(self):\n",
    "        #pegamos a posição\n",
    "        posicao = self.getMarcha()\n",
    "        if posicao > 0:\n",
    "            self.__embreagem.pressionar()\n",
    "        print('O carro está ligado')\n",
    "            \n",
    "    def aumentarMarcha(self):\n",
    "        posicao = self.getMarcha()\n",
    "        if posicao < 5:\n",
    "            self.__embreagem.pressionar()\n",
    "            novaMarcha = posicao + 1\n",
    "            self.__marcha.posicionar(novaMarcha)\n",
    "                \n",
    "    def reduzirMarcha(self):\n",
    "        posicao = self.getMarcha()\n",
    "        if posicao > -1:\n",
    "            self.__embreagem.pressionar()\n",
    "            novaMarcha = posicao - 1\n",
    "            self.__marcha.posicionar(novaMarcha)\n",
    "            print('O automóvel está em marcha ré')\n",
    "        else:\n",
    "            print('O automóvel está na marcha N')\n",
    "              \n",
    "    #implementar método para gravar os métodos de self.kmRodado em um arquivos\n",
    "    def salvar(self, caminho):\n",
    "        arquivo = open(caminho, 'w')\n",
    "        arquivo.write(str(self.kmRodado))\n",
    "        arquivo.close()"
   ]
  },
  {
   "cell_type": "code",
   "execution_count": 26,
   "metadata": {},
   "outputs": [
    {
     "ename": "AttributeError",
     "evalue": "'Automovel' object has no attribute 'carregar'",
     "output_type": "error",
     "traceback": [
      "\u001b[1;31m---------------------------------------------------------------------------\u001b[0m",
      "\u001b[1;31mAttributeError\u001b[0m                            Traceback (most recent call last)",
      "\u001b[1;32m<ipython-input-26-25d72f1a1fc0>\u001b[0m in \u001b[0;36m<module>\u001b[1;34m()\u001b[0m\n\u001b[0;32m     15\u001b[0m \u001b[1;31m#Crie uma instância da classe automovel e atribua a ela as instâncias criadas de\u001b[0m\u001b[1;33m\u001b[0m\u001b[1;33m\u001b[0m\u001b[0m\n\u001b[0;32m     16\u001b[0m \u001b[1;31m#cambio, embreagem e uma lista com as instâncias dos pneus\u001b[0m\u001b[1;33m\u001b[0m\u001b[1;33m\u001b[0m\u001b[0m\n\u001b[1;32m---> 17\u001b[1;33m \u001b[0mmeuCarro\u001b[0m \u001b[1;33m=\u001b[0m \u001b[0mAutomovel\u001b[0m\u001b[1;33m(\u001b[0m\u001b[0m__cambio\u001b[0m\u001b[1;33m,\u001b[0m\u001b[0m__embreagem\u001b[0m\u001b[1;33m,\u001b[0m\u001b[0m__pneus\u001b[0m\u001b[1;33m,\u001b[0m \u001b[1;36m100\u001b[0m\u001b[1;33m)\u001b[0m\u001b[1;33m\u001b[0m\u001b[0m\n\u001b[0m\u001b[0;32m     18\u001b[0m \u001b[1;33m\u001b[0m\u001b[0m\n\u001b[0;32m     19\u001b[0m \u001b[1;31m#Realize a calibragem de todos os pneus do automóvel\u001b[0m\u001b[1;33m\u001b[0m\u001b[1;33m\u001b[0m\u001b[0m\n",
      "\u001b[1;32m<ipython-input-25-de6919032d31>\u001b[0m in \u001b[0;36m__init__\u001b[1;34m(self, marcha, embreagem, pneus, kmRodado)\u001b[0m\n\u001b[0;32m      5\u001b[0m         \u001b[0mself\u001b[0m\u001b[1;33m.\u001b[0m\u001b[0membreagem\u001b[0m \u001b[1;33m=\u001b[0m \u001b[0membreagem\u001b[0m\u001b[1;33m\u001b[0m\u001b[0m\n\u001b[0;32m      6\u001b[0m         \u001b[0mself\u001b[0m\u001b[1;33m.\u001b[0m\u001b[0mpneus\u001b[0m \u001b[1;33m=\u001b[0m \u001b[0mpneus\u001b[0m\u001b[1;33m\u001b[0m\u001b[0m\n\u001b[1;32m----> 7\u001b[1;33m         \u001b[0mself\u001b[0m\u001b[1;33m.\u001b[0m\u001b[0mkmRodado\u001b[0m \u001b[1;33m=\u001b[0m \u001b[0mint\u001b[0m\u001b[1;33m(\u001b[0m\u001b[0mself\u001b[0m\u001b[1;33m.\u001b[0m\u001b[0mcarregar\u001b[0m\u001b[1;33m(\u001b[0m\u001b[1;34m\"C:\\\\temp\\\\meucarrosalvo.txt\"\u001b[0m\u001b[1;33m)\u001b[0m\u001b[1;33m)\u001b[0m\u001b[1;33m\u001b[0m\u001b[0m\n\u001b[0m\u001b[0;32m      8\u001b[0m \u001b[1;33m\u001b[0m\u001b[0m\n\u001b[0;32m      9\u001b[0m     \u001b[1;32mdef\u001b[0m \u001b[0mligar\u001b[0m\u001b[1;33m(\u001b[0m\u001b[0mself\u001b[0m\u001b[1;33m)\u001b[0m\u001b[1;33m:\u001b[0m\u001b[1;33m\u001b[0m\u001b[0m\n",
      "\u001b[1;31mAttributeError\u001b[0m: 'Automovel' object has no attribute 'carregar'"
     ]
    }
   ],
   "source": [
    "#Importe o arquivo com as definições das classes\n",
    "#import self, marcha, embreagem, pneus from classes \n",
    "\n",
    "#Crie uma instância da classe cambio, com posicao = 0\n",
    "__cambio = Cambio(posicao = 0)\n",
    "\n",
    "#Crie uma instância da classe embreagem, com pressionado = False\n",
    "__embreagem = Embreagem(pressionado = False)\n",
    "\n",
    "#Crie cinco instâncias da classe pneus, com pressao=30 e balanceado=True\n",
    "__pneus = list()\n",
    "for i in range(5):\n",
    "    __pneus.append((Pneu (30,True)))\n",
    "\n",
    "#Crie uma instância da classe automovel e atribua a ela as instâncias criadas de \n",
    "#cambio, embreagem e uma lista com as instâncias dos pneus\n",
    "meuCarro = Automovel(__cambio,__embreagem,__pneus, 100)\n",
    "\n",
    "#Realize a calibragem de todos os pneus do automóvel\n",
    "for pneu in meuCarro.pneus:\n",
    "    pneu.calibrar(30)\n",
    "\n",
    "#Execute o método ligar do automóvel.\n",
    "meuCarro.ligar()\n",
    "\n",
    "#Execute o método aumentarMarcha do automóvel 6 vezes.\n",
    "for i in rage(6):\n",
    "    meuCarro.aumentarMarcha()\n",
    "#Execute o método reduzirMarcha do automóvel 8 vezes.\n",
    "for i in rage(8):\n",
    "    meuCarro.reduzirMarcha()\n",
    "\n",
    "#Realize o balanceamento dos pneus do carro.\n",
    "for pneu in meuCarro.pneus:\n",
    "    balancear()"
   ]
  },
  {
   "cell_type": "code",
   "execution_count": 27,
   "metadata": {},
   "outputs": [],
   "source": [
    "#Cada vez que o método rodar() for executado, incremente o atributo kmRodado com o valor de kilometros\n",
    "# passado como parâmetro.\n",
    "\n",
    "meuCarro.rodar(20)\n",
    "meuCarro.rodar(50)\n",
    "meuCarro.rodar(140)\n",
    "meuCarro.salvar(\"C:\\\\temp\\\\meucarrosalvo.txt\")\n",
    "\n",
    "\n",
    "def carregar (self,caminho):\n",
    "    arquivo = open (caminho)\n",
    "    self.kmRodado = self.carregar(\"C:\\\\temp\\\\meucarrosalvo.txt\")\n",
    "    arquivo.close()\n",
    "    return(int(arquivo.read()))\n",
    "\n",
    "#O método consultarKmRodado deve imprimir na tela uma mensagem “O carro já rodou XX kilometros”,\n",
    "#onde XX é o valor do atributo kmRodado.\n",
    "\n",
    "#Adicione ao seu programa principal várias chamadas para o médo rodar(), e depois uma cahamada para consultarKmRodado()"
   ]
  },
  {
   "cell_type": "code",
   "execution_count": 1,
   "metadata": {},
   "outputs": [
    {
     "ename": "NameError",
     "evalue": "name 'meuCarro' is not defined",
     "output_type": "error",
     "traceback": [
      "\u001b[1;31m---------------------------------------------------------------------------\u001b[0m",
      "\u001b[1;31mNameError\u001b[0m                                 Traceback (most recent call last)",
      "\u001b[1;32m<ipython-input-1-c8d8171bd077>\u001b[0m in \u001b[0;36m<module>\u001b[1;34m()\u001b[0m\n\u001b[1;32m----> 1\u001b[1;33m \u001b[0mdir\u001b[0m\u001b[1;33m(\u001b[0m\u001b[0mmeuCarro\u001b[0m\u001b[1;33m)\u001b[0m\u001b[1;33m\u001b[0m\u001b[0m\n\u001b[0m",
      "\u001b[1;31mNameError\u001b[0m: name 'meuCarro' is not defined"
     ]
    }
   ],
   "source": []
  }
 ],
 "metadata": {
  "kernelspec": {
   "display_name": "Python 3",
   "language": "python",
   "name": "python3"
  },
  "language_info": {
   "codemirror_mode": {
    "name": "ipython",
    "version": 3
   },
   "file_extension": ".py",
   "mimetype": "text/x-python",
   "name": "python",
   "nbconvert_exporter": "python",
   "pygments_lexer": "ipython3",
   "version": "3.6.5"
  }
 },
 "nbformat": 4,
 "nbformat_minor": 2
}
